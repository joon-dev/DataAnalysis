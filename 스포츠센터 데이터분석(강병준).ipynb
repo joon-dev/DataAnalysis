{
 "cells": [
  {
   "cell_type": "markdown",
   "metadata": {},
   "source": [
    "## 스포츠센터 데이터분석     by 강병준"
   ]
  },
  {
   "cell_type": "code",
   "execution_count": 64,
   "metadata": {},
   "outputs": [],
   "source": [
    "import matplotlib.pyplot as plt\n",
    "from matplotlib import rc  \n",
    "rc('font', family='AppleGothic') \t\t\t\n",
    "plt.rcParams['axes.unicode_minus']    # 한글깨짐 방지 코드 for mac\n",
    "import seaborn as sns\n",
    "\n",
    "\n",
    "# 데이러 로드\n",
    "import pandas as pd\n",
    "campaign_master = pd.read_csv('project/campaign_master.csv')\n",
    "class_master = pd.read_csv('project/class_master.csv')\n",
    "customer_master = pd.read_csv('project/customer_master.csv')\n",
    "use_log = pd.read_csv('project/use_log.csv')"
   ]
  },
  {
   "cell_type": "code",
   "execution_count": 65,
   "metadata": {},
   "outputs": [
    {
     "data": {
      "text/html": [
       "<div>\n",
       "<style scoped>\n",
       "    .dataframe tbody tr th:only-of-type {\n",
       "        vertical-align: middle;\n",
       "    }\n",
       "\n",
       "    .dataframe tbody tr th {\n",
       "        vertical-align: top;\n",
       "    }\n",
       "\n",
       "    .dataframe thead th {\n",
       "        text-align: right;\n",
       "    }\n",
       "</style>\n",
       "<table border=\"1\" class=\"dataframe\">\n",
       "  <thead>\n",
       "    <tr style=\"text-align: right;\">\n",
       "      <th></th>\n",
       "      <th>campaign_id</th>\n",
       "      <th>campaign_name</th>\n",
       "    </tr>\n",
       "  </thead>\n",
       "  <tbody>\n",
       "    <tr>\n",
       "      <th>0</th>\n",
       "      <td>CA1</td>\n",
       "      <td>2_일반</td>\n",
       "    </tr>\n",
       "    <tr>\n",
       "      <th>1</th>\n",
       "      <td>CA2</td>\n",
       "      <td>0_입회비반액할인</td>\n",
       "    </tr>\n",
       "    <tr>\n",
       "      <th>2</th>\n",
       "      <td>CA3</td>\n",
       "      <td>1_입회비무료</td>\n",
       "    </tr>\n",
       "  </tbody>\n",
       "</table>\n",
       "</div>"
      ],
      "text/plain": [
       "  campaign_id campaign_name\n",
       "0         CA1          2_일반\n",
       "1         CA2     0_입회비반액할인\n",
       "2         CA3       1_입회비무료"
      ]
     },
     "execution_count": 65,
     "metadata": {},
     "output_type": "execute_result"
    }
   ],
   "source": [
    "campaign_master.head()"
   ]
  },
  {
   "cell_type": "code",
   "execution_count": 66,
   "metadata": {},
   "outputs": [
    {
     "data": {
      "text/html": [
       "<div>\n",
       "<style scoped>\n",
       "    .dataframe tbody tr th:only-of-type {\n",
       "        vertical-align: middle;\n",
       "    }\n",
       "\n",
       "    .dataframe tbody tr th {\n",
       "        vertical-align: top;\n",
       "    }\n",
       "\n",
       "    .dataframe thead th {\n",
       "        text-align: right;\n",
       "    }\n",
       "</style>\n",
       "<table border=\"1\" class=\"dataframe\">\n",
       "  <thead>\n",
       "    <tr style=\"text-align: right;\">\n",
       "      <th></th>\n",
       "      <th>class</th>\n",
       "      <th>class_name</th>\n",
       "      <th>price</th>\n",
       "    </tr>\n",
       "  </thead>\n",
       "  <tbody>\n",
       "    <tr>\n",
       "      <th>0</th>\n",
       "      <td>C01</td>\n",
       "      <td>0_종일</td>\n",
       "      <td>10500</td>\n",
       "    </tr>\n",
       "    <tr>\n",
       "      <th>1</th>\n",
       "      <td>C02</td>\n",
       "      <td>1_주간</td>\n",
       "      <td>7500</td>\n",
       "    </tr>\n",
       "    <tr>\n",
       "      <th>2</th>\n",
       "      <td>C03</td>\n",
       "      <td>2_야간</td>\n",
       "      <td>6000</td>\n",
       "    </tr>\n",
       "  </tbody>\n",
       "</table>\n",
       "</div>"
      ],
      "text/plain": [
       "  class class_name  price\n",
       "0   C01       0_종일  10500\n",
       "1   C02       1_주간   7500\n",
       "2   C03       2_야간   6000"
      ]
     },
     "execution_count": 66,
     "metadata": {},
     "output_type": "execute_result"
    }
   ],
   "source": [
    "class_master.head()"
   ]
  },
  {
   "cell_type": "code",
   "execution_count": 112,
   "metadata": {},
   "outputs": [
    {
     "data": {
      "text/html": [
       "<div>\n",
       "<style scoped>\n",
       "    .dataframe tbody tr th:only-of-type {\n",
       "        vertical-align: middle;\n",
       "    }\n",
       "\n",
       "    .dataframe tbody tr th {\n",
       "        vertical-align: top;\n",
       "    }\n",
       "\n",
       "    .dataframe thead th {\n",
       "        text-align: right;\n",
       "    }\n",
       "</style>\n",
       "<table border=\"1\" class=\"dataframe\">\n",
       "  <thead>\n",
       "    <tr style=\"text-align: right;\">\n",
       "      <th></th>\n",
       "      <th>customer_id</th>\n",
       "      <th>name</th>\n",
       "      <th>class</th>\n",
       "      <th>gender</th>\n",
       "      <th>start_date</th>\n",
       "      <th>end_date</th>\n",
       "      <th>campaign_id</th>\n",
       "      <th>is_deleted</th>\n",
       "    </tr>\n",
       "  </thead>\n",
       "  <tbody>\n",
       "    <tr>\n",
       "      <th>0</th>\n",
       "      <td>OA832399</td>\n",
       "      <td>XXXX</td>\n",
       "      <td>C01</td>\n",
       "      <td>F</td>\n",
       "      <td>2015-05-01 00:00:00</td>\n",
       "      <td>NaN</td>\n",
       "      <td>CA1</td>\n",
       "      <td>0</td>\n",
       "    </tr>\n",
       "    <tr>\n",
       "      <th>1</th>\n",
       "      <td>PL270116</td>\n",
       "      <td>XXXXX</td>\n",
       "      <td>C01</td>\n",
       "      <td>M</td>\n",
       "      <td>2015-05-01 00:00:00</td>\n",
       "      <td>NaN</td>\n",
       "      <td>CA1</td>\n",
       "      <td>0</td>\n",
       "    </tr>\n",
       "    <tr>\n",
       "      <th>2</th>\n",
       "      <td>OA974876</td>\n",
       "      <td>XXXXX</td>\n",
       "      <td>C01</td>\n",
       "      <td>M</td>\n",
       "      <td>2015-05-01 00:00:00</td>\n",
       "      <td>NaN</td>\n",
       "      <td>CA1</td>\n",
       "      <td>0</td>\n",
       "    </tr>\n",
       "    <tr>\n",
       "      <th>3</th>\n",
       "      <td>HD024127</td>\n",
       "      <td>XXXXX</td>\n",
       "      <td>C01</td>\n",
       "      <td>F</td>\n",
       "      <td>2015-05-01 00:00:00</td>\n",
       "      <td>NaN</td>\n",
       "      <td>CA1</td>\n",
       "      <td>0</td>\n",
       "    </tr>\n",
       "    <tr>\n",
       "      <th>4</th>\n",
       "      <td>HD661448</td>\n",
       "      <td>XXXXX</td>\n",
       "      <td>C03</td>\n",
       "      <td>F</td>\n",
       "      <td>2015-05-01 00:00:00</td>\n",
       "      <td>NaN</td>\n",
       "      <td>CA1</td>\n",
       "      <td>0</td>\n",
       "    </tr>\n",
       "    <tr>\n",
       "      <th>...</th>\n",
       "      <td>...</td>\n",
       "      <td>...</td>\n",
       "      <td>...</td>\n",
       "      <td>...</td>\n",
       "      <td>...</td>\n",
       "      <td>...</td>\n",
       "      <td>...</td>\n",
       "      <td>...</td>\n",
       "    </tr>\n",
       "    <tr>\n",
       "      <th>4187</th>\n",
       "      <td>HD676663</td>\n",
       "      <td>XXXX</td>\n",
       "      <td>C01</td>\n",
       "      <td>M</td>\n",
       "      <td>2019-03-14 00:00:00</td>\n",
       "      <td>NaN</td>\n",
       "      <td>CA1</td>\n",
       "      <td>0</td>\n",
       "    </tr>\n",
       "    <tr>\n",
       "      <th>4188</th>\n",
       "      <td>HD246549</td>\n",
       "      <td>XXXXX</td>\n",
       "      <td>C01</td>\n",
       "      <td>F</td>\n",
       "      <td>2019-03-14 00:00:00</td>\n",
       "      <td>NaN</td>\n",
       "      <td>CA1</td>\n",
       "      <td>0</td>\n",
       "    </tr>\n",
       "    <tr>\n",
       "      <th>4189</th>\n",
       "      <td>GD037007</td>\n",
       "      <td>XXXXX</td>\n",
       "      <td>C03</td>\n",
       "      <td>M</td>\n",
       "      <td>2019-03-14 00:00:00</td>\n",
       "      <td>NaN</td>\n",
       "      <td>CA1</td>\n",
       "      <td>0</td>\n",
       "    </tr>\n",
       "    <tr>\n",
       "      <th>4190</th>\n",
       "      <td>OA953150</td>\n",
       "      <td>XXXXX</td>\n",
       "      <td>C01</td>\n",
       "      <td>M</td>\n",
       "      <td>2019-03-14 00:00:00</td>\n",
       "      <td>NaN</td>\n",
       "      <td>CA1</td>\n",
       "      <td>0</td>\n",
       "    </tr>\n",
       "    <tr>\n",
       "      <th>4191</th>\n",
       "      <td>IK692635</td>\n",
       "      <td>XXXXX</td>\n",
       "      <td>C02</td>\n",
       "      <td>F</td>\n",
       "      <td>2019-03-15 00:00:00</td>\n",
       "      <td>NaN</td>\n",
       "      <td>CA1</td>\n",
       "      <td>0</td>\n",
       "    </tr>\n",
       "  </tbody>\n",
       "</table>\n",
       "<p>4192 rows × 8 columns</p>\n",
       "</div>"
      ],
      "text/plain": [
       "     customer_id   name class gender           start_date end_date  \\\n",
       "0       OA832399   XXXX   C01      F  2015-05-01 00:00:00      NaN   \n",
       "1       PL270116  XXXXX   C01      M  2015-05-01 00:00:00      NaN   \n",
       "2       OA974876  XXXXX   C01      M  2015-05-01 00:00:00      NaN   \n",
       "3       HD024127  XXXXX   C01      F  2015-05-01 00:00:00      NaN   \n",
       "4       HD661448  XXXXX   C03      F  2015-05-01 00:00:00      NaN   \n",
       "...          ...    ...   ...    ...                  ...      ...   \n",
       "4187    HD676663   XXXX   C01      M  2019-03-14 00:00:00      NaN   \n",
       "4188    HD246549  XXXXX   C01      F  2019-03-14 00:00:00      NaN   \n",
       "4189    GD037007  XXXXX   C03      M  2019-03-14 00:00:00      NaN   \n",
       "4190    OA953150  XXXXX   C01      M  2019-03-14 00:00:00      NaN   \n",
       "4191    IK692635  XXXXX   C02      F  2019-03-15 00:00:00      NaN   \n",
       "\n",
       "     campaign_id  is_deleted  \n",
       "0            CA1           0  \n",
       "1            CA1           0  \n",
       "2            CA1           0  \n",
       "3            CA1           0  \n",
       "4            CA1           0  \n",
       "...          ...         ...  \n",
       "4187         CA1           0  \n",
       "4188         CA1           0  \n",
       "4189         CA1           0  \n",
       "4190         CA1           0  \n",
       "4191         CA1           0  \n",
       "\n",
       "[4192 rows x 8 columns]"
      ]
     },
     "execution_count": 112,
     "metadata": {},
     "output_type": "execute_result"
    }
   ],
   "source": [
    "customer_master = pd.read_csv('project/customer_master.csv')\n",
    "\n",
    "customer_master"
   ]
  },
  {
   "cell_type": "code",
   "execution_count": 68,
   "metadata": {},
   "outputs": [
    {
     "data": {
      "text/html": [
       "<div>\n",
       "<style scoped>\n",
       "    .dataframe tbody tr th:only-of-type {\n",
       "        vertical-align: middle;\n",
       "    }\n",
       "\n",
       "    .dataframe tbody tr th {\n",
       "        vertical-align: top;\n",
       "    }\n",
       "\n",
       "    .dataframe thead th {\n",
       "        text-align: right;\n",
       "    }\n",
       "</style>\n",
       "<table border=\"1\" class=\"dataframe\">\n",
       "  <thead>\n",
       "    <tr style=\"text-align: right;\">\n",
       "      <th></th>\n",
       "      <th>log_id</th>\n",
       "      <th>customer_id</th>\n",
       "      <th>usedate</th>\n",
       "    </tr>\n",
       "  </thead>\n",
       "  <tbody>\n",
       "    <tr>\n",
       "      <th>0</th>\n",
       "      <td>L00000049012330</td>\n",
       "      <td>AS009373</td>\n",
       "      <td>2018-04-01</td>\n",
       "    </tr>\n",
       "    <tr>\n",
       "      <th>1</th>\n",
       "      <td>L00000049012331</td>\n",
       "      <td>AS015315</td>\n",
       "      <td>2018-04-01</td>\n",
       "    </tr>\n",
       "    <tr>\n",
       "      <th>2</th>\n",
       "      <td>L00000049012332</td>\n",
       "      <td>AS040841</td>\n",
       "      <td>2018-04-01</td>\n",
       "    </tr>\n",
       "    <tr>\n",
       "      <th>3</th>\n",
       "      <td>L00000049012333</td>\n",
       "      <td>AS046594</td>\n",
       "      <td>2018-04-01</td>\n",
       "    </tr>\n",
       "    <tr>\n",
       "      <th>4</th>\n",
       "      <td>L00000049012334</td>\n",
       "      <td>AS073285</td>\n",
       "      <td>2018-04-01</td>\n",
       "    </tr>\n",
       "  </tbody>\n",
       "</table>\n",
       "</div>"
      ],
      "text/plain": [
       "            log_id customer_id     usedate\n",
       "0  L00000049012330    AS009373  2018-04-01\n",
       "1  L00000049012331    AS015315  2018-04-01\n",
       "2  L00000049012332    AS040841  2018-04-01\n",
       "3  L00000049012333    AS046594  2018-04-01\n",
       "4  L00000049012334    AS073285  2018-04-01"
      ]
     },
     "execution_count": 68,
     "metadata": {},
     "output_type": "execute_result"
    }
   ],
   "source": [
    "use_log.head()"
   ]
  },
  {
   "cell_type": "markdown",
   "metadata": {},
   "source": [
    "# Merge\n",
    "\n",
    "### customer_master & campaign_master  Merge"
   ]
  },
  {
   "cell_type": "code",
   "execution_count": 69,
   "metadata": {},
   "outputs": [],
   "source": [
    "# is_deleted 컬럼에서 0-> 유지회원, 1-> 탈퇴회원으로 변경함 \n",
    "def deleted (x):\n",
    "    if x == 0:\n",
    "        return '유지회원'\n",
    "    elif x == 1:\n",
    "        return '탈퇴회원'\n",
    "\n",
    "customer_master[\"is_deleted\"] = customer_master[\"is_deleted\"].apply(deleted)"
   ]
  },
  {
   "cell_type": "code",
   "execution_count": 70,
   "metadata": {},
   "outputs": [
    {
     "data": {
      "text/html": [
       "<div>\n",
       "<style scoped>\n",
       "    .dataframe tbody tr th:only-of-type {\n",
       "        vertical-align: middle;\n",
       "    }\n",
       "\n",
       "    .dataframe tbody tr th {\n",
       "        vertical-align: top;\n",
       "    }\n",
       "\n",
       "    .dataframe thead th {\n",
       "        text-align: right;\n",
       "    }\n",
       "</style>\n",
       "<table border=\"1\" class=\"dataframe\">\n",
       "  <thead>\n",
       "    <tr style=\"text-align: right;\">\n",
       "      <th></th>\n",
       "      <th>customer_id</th>\n",
       "      <th>name</th>\n",
       "      <th>class</th>\n",
       "      <th>gender</th>\n",
       "      <th>start_date</th>\n",
       "      <th>end_date</th>\n",
       "      <th>campaign_id</th>\n",
       "      <th>is_deleted</th>\n",
       "      <th>campaign_name</th>\n",
       "    </tr>\n",
       "  </thead>\n",
       "  <tbody>\n",
       "    <tr>\n",
       "      <th>0</th>\n",
       "      <td>OA832399</td>\n",
       "      <td>XXXX</td>\n",
       "      <td>C01</td>\n",
       "      <td>F</td>\n",
       "      <td>2015-05-01 00:00:00</td>\n",
       "      <td>NaN</td>\n",
       "      <td>CA1</td>\n",
       "      <td>유지회원</td>\n",
       "      <td>2_일반</td>\n",
       "    </tr>\n",
       "    <tr>\n",
       "      <th>1</th>\n",
       "      <td>PL270116</td>\n",
       "      <td>XXXXX</td>\n",
       "      <td>C01</td>\n",
       "      <td>M</td>\n",
       "      <td>2015-05-01 00:00:00</td>\n",
       "      <td>NaN</td>\n",
       "      <td>CA1</td>\n",
       "      <td>유지회원</td>\n",
       "      <td>2_일반</td>\n",
       "    </tr>\n",
       "    <tr>\n",
       "      <th>2</th>\n",
       "      <td>OA974876</td>\n",
       "      <td>XXXXX</td>\n",
       "      <td>C01</td>\n",
       "      <td>M</td>\n",
       "      <td>2015-05-01 00:00:00</td>\n",
       "      <td>NaN</td>\n",
       "      <td>CA1</td>\n",
       "      <td>유지회원</td>\n",
       "      <td>2_일반</td>\n",
       "    </tr>\n",
       "    <tr>\n",
       "      <th>3</th>\n",
       "      <td>HD024127</td>\n",
       "      <td>XXXXX</td>\n",
       "      <td>C01</td>\n",
       "      <td>F</td>\n",
       "      <td>2015-05-01 00:00:00</td>\n",
       "      <td>NaN</td>\n",
       "      <td>CA1</td>\n",
       "      <td>유지회원</td>\n",
       "      <td>2_일반</td>\n",
       "    </tr>\n",
       "    <tr>\n",
       "      <th>4</th>\n",
       "      <td>HD661448</td>\n",
       "      <td>XXXXX</td>\n",
       "      <td>C03</td>\n",
       "      <td>F</td>\n",
       "      <td>2015-05-01 00:00:00</td>\n",
       "      <td>NaN</td>\n",
       "      <td>CA1</td>\n",
       "      <td>유지회원</td>\n",
       "      <td>2_일반</td>\n",
       "    </tr>\n",
       "    <tr>\n",
       "      <th>...</th>\n",
       "      <td>...</td>\n",
       "      <td>...</td>\n",
       "      <td>...</td>\n",
       "      <td>...</td>\n",
       "      <td>...</td>\n",
       "      <td>...</td>\n",
       "      <td>...</td>\n",
       "      <td>...</td>\n",
       "      <td>...</td>\n",
       "    </tr>\n",
       "    <tr>\n",
       "      <th>4187</th>\n",
       "      <td>HD676663</td>\n",
       "      <td>XXXX</td>\n",
       "      <td>C01</td>\n",
       "      <td>M</td>\n",
       "      <td>2019-03-14 00:00:00</td>\n",
       "      <td>NaN</td>\n",
       "      <td>CA1</td>\n",
       "      <td>유지회원</td>\n",
       "      <td>2_일반</td>\n",
       "    </tr>\n",
       "    <tr>\n",
       "      <th>4188</th>\n",
       "      <td>HD246549</td>\n",
       "      <td>XXXXX</td>\n",
       "      <td>C01</td>\n",
       "      <td>F</td>\n",
       "      <td>2019-03-14 00:00:00</td>\n",
       "      <td>NaN</td>\n",
       "      <td>CA1</td>\n",
       "      <td>유지회원</td>\n",
       "      <td>2_일반</td>\n",
       "    </tr>\n",
       "    <tr>\n",
       "      <th>4189</th>\n",
       "      <td>GD037007</td>\n",
       "      <td>XXXXX</td>\n",
       "      <td>C03</td>\n",
       "      <td>M</td>\n",
       "      <td>2019-03-14 00:00:00</td>\n",
       "      <td>NaN</td>\n",
       "      <td>CA1</td>\n",
       "      <td>유지회원</td>\n",
       "      <td>2_일반</td>\n",
       "    </tr>\n",
       "    <tr>\n",
       "      <th>4190</th>\n",
       "      <td>OA953150</td>\n",
       "      <td>XXXXX</td>\n",
       "      <td>C01</td>\n",
       "      <td>M</td>\n",
       "      <td>2019-03-14 00:00:00</td>\n",
       "      <td>NaN</td>\n",
       "      <td>CA1</td>\n",
       "      <td>유지회원</td>\n",
       "      <td>2_일반</td>\n",
       "    </tr>\n",
       "    <tr>\n",
       "      <th>4191</th>\n",
       "      <td>IK692635</td>\n",
       "      <td>XXXXX</td>\n",
       "      <td>C02</td>\n",
       "      <td>F</td>\n",
       "      <td>2019-03-15 00:00:00</td>\n",
       "      <td>NaN</td>\n",
       "      <td>CA1</td>\n",
       "      <td>유지회원</td>\n",
       "      <td>2_일반</td>\n",
       "    </tr>\n",
       "  </tbody>\n",
       "</table>\n",
       "<p>4192 rows × 9 columns</p>\n",
       "</div>"
      ],
      "text/plain": [
       "     customer_id   name class gender           start_date end_date  \\\n",
       "0       OA832399   XXXX   C01      F  2015-05-01 00:00:00      NaN   \n",
       "1       PL270116  XXXXX   C01      M  2015-05-01 00:00:00      NaN   \n",
       "2       OA974876  XXXXX   C01      M  2015-05-01 00:00:00      NaN   \n",
       "3       HD024127  XXXXX   C01      F  2015-05-01 00:00:00      NaN   \n",
       "4       HD661448  XXXXX   C03      F  2015-05-01 00:00:00      NaN   \n",
       "...          ...    ...   ...    ...                  ...      ...   \n",
       "4187    HD676663   XXXX   C01      M  2019-03-14 00:00:00      NaN   \n",
       "4188    HD246549  XXXXX   C01      F  2019-03-14 00:00:00      NaN   \n",
       "4189    GD037007  XXXXX   C03      M  2019-03-14 00:00:00      NaN   \n",
       "4190    OA953150  XXXXX   C01      M  2019-03-14 00:00:00      NaN   \n",
       "4191    IK692635  XXXXX   C02      F  2019-03-15 00:00:00      NaN   \n",
       "\n",
       "     campaign_id is_deleted campaign_name  \n",
       "0            CA1       유지회원          2_일반  \n",
       "1            CA1       유지회원          2_일반  \n",
       "2            CA1       유지회원          2_일반  \n",
       "3            CA1       유지회원          2_일반  \n",
       "4            CA1       유지회원          2_일반  \n",
       "...          ...        ...           ...  \n",
       "4187         CA1       유지회원          2_일반  \n",
       "4188         CA1       유지회원          2_일반  \n",
       "4189         CA1       유지회원          2_일반  \n",
       "4190         CA1       유지회원          2_일반  \n",
       "4191         CA1       유지회원          2_일반  \n",
       "\n",
       "[4192 rows x 9 columns]"
      ]
     },
     "execution_count": 70,
     "metadata": {},
     "output_type": "execute_result"
    }
   ],
   "source": [
    "customer_cam=customer_master.merge(campaign_master, on='campaign_id', how='left')\n",
    "customer_cam"
   ]
  },
  {
   "cell_type": "code",
   "execution_count": 71,
   "metadata": {},
   "outputs": [
    {
     "name": "stdout",
     "output_type": "stream",
     "text": [
      "<class 'pandas.core.frame.DataFrame'>\n",
      "Int64Index: 4192 entries, 0 to 4191\n",
      "Data columns (total 9 columns):\n",
      " #   Column         Non-Null Count  Dtype \n",
      "---  ------         --------------  ----- \n",
      " 0   customer_id    4192 non-null   object\n",
      " 1   name           4192 non-null   object\n",
      " 2   class          4192 non-null   object\n",
      " 3   gender         4192 non-null   object\n",
      " 4   start_date     4192 non-null   object\n",
      " 5   end_date       1350 non-null   object\n",
      " 6   campaign_id    4192 non-null   object\n",
      " 7   is_deleted     4192 non-null   object\n",
      " 8   campaign_name  4192 non-null   object\n",
      "dtypes: object(9)\n",
      "memory usage: 327.5+ KB\n"
     ]
    }
   ],
   "source": [
    "customer_cam.info()\n",
    "# merge한 데이터 정보확인"
   ]
  },
  {
   "cell_type": "code",
   "execution_count": 72,
   "metadata": {},
   "outputs": [
    {
     "data": {
      "text/plain": [
       "customer_id         0\n",
       "name                0\n",
       "class               0\n",
       "gender              0\n",
       "start_date          0\n",
       "end_date         2842\n",
       "campaign_id         0\n",
       "is_deleted          0\n",
       "campaign_name       0\n",
       "dtype: int64"
      ]
     },
     "execution_count": 72,
     "metadata": {},
     "output_type": "execute_result"
    }
   ],
   "source": [
    "customer_cam.isnull().sum() \n",
    "#null값 확인- end_date에 2842개 확인\n"
   ]
  },
  {
   "cell_type": "markdown",
   "metadata": {},
   "source": [
    "## Merge\n",
    "### customer_cam(customer_master & campaign_maste) & class_master   "
   ]
  },
  {
   "cell_type": "code",
   "execution_count": 73,
   "metadata": {},
   "outputs": [
    {
     "data": {
      "text/html": [
       "<div>\n",
       "<style scoped>\n",
       "    .dataframe tbody tr th:only-of-type {\n",
       "        vertical-align: middle;\n",
       "    }\n",
       "\n",
       "    .dataframe tbody tr th {\n",
       "        vertical-align: top;\n",
       "    }\n",
       "\n",
       "    .dataframe thead th {\n",
       "        text-align: right;\n",
       "    }\n",
       "</style>\n",
       "<table border=\"1\" class=\"dataframe\">\n",
       "  <thead>\n",
       "    <tr style=\"text-align: right;\">\n",
       "      <th></th>\n",
       "      <th>customer_id</th>\n",
       "      <th>name</th>\n",
       "      <th>class</th>\n",
       "      <th>gender</th>\n",
       "      <th>start_date</th>\n",
       "      <th>end_date</th>\n",
       "      <th>campaign_id</th>\n",
       "      <th>is_deleted</th>\n",
       "      <th>campaign_name</th>\n",
       "      <th>class_name</th>\n",
       "      <th>price</th>\n",
       "    </tr>\n",
       "  </thead>\n",
       "  <tbody>\n",
       "    <tr>\n",
       "      <th>0</th>\n",
       "      <td>OA832399</td>\n",
       "      <td>XXXX</td>\n",
       "      <td>C01</td>\n",
       "      <td>F</td>\n",
       "      <td>2015-05-01 00:00:00</td>\n",
       "      <td>NaN</td>\n",
       "      <td>CA1</td>\n",
       "      <td>유지회원</td>\n",
       "      <td>2_일반</td>\n",
       "      <td>0_종일</td>\n",
       "      <td>10500</td>\n",
       "    </tr>\n",
       "    <tr>\n",
       "      <th>1</th>\n",
       "      <td>PL270116</td>\n",
       "      <td>XXXXX</td>\n",
       "      <td>C01</td>\n",
       "      <td>M</td>\n",
       "      <td>2015-05-01 00:00:00</td>\n",
       "      <td>NaN</td>\n",
       "      <td>CA1</td>\n",
       "      <td>유지회원</td>\n",
       "      <td>2_일반</td>\n",
       "      <td>0_종일</td>\n",
       "      <td>10500</td>\n",
       "    </tr>\n",
       "    <tr>\n",
       "      <th>2</th>\n",
       "      <td>OA974876</td>\n",
       "      <td>XXXXX</td>\n",
       "      <td>C01</td>\n",
       "      <td>M</td>\n",
       "      <td>2015-05-01 00:00:00</td>\n",
       "      <td>NaN</td>\n",
       "      <td>CA1</td>\n",
       "      <td>유지회원</td>\n",
       "      <td>2_일반</td>\n",
       "      <td>0_종일</td>\n",
       "      <td>10500</td>\n",
       "    </tr>\n",
       "    <tr>\n",
       "      <th>3</th>\n",
       "      <td>HD024127</td>\n",
       "      <td>XXXXX</td>\n",
       "      <td>C01</td>\n",
       "      <td>F</td>\n",
       "      <td>2015-05-01 00:00:00</td>\n",
       "      <td>NaN</td>\n",
       "      <td>CA1</td>\n",
       "      <td>유지회원</td>\n",
       "      <td>2_일반</td>\n",
       "      <td>0_종일</td>\n",
       "      <td>10500</td>\n",
       "    </tr>\n",
       "    <tr>\n",
       "      <th>4</th>\n",
       "      <td>HD661448</td>\n",
       "      <td>XXXXX</td>\n",
       "      <td>C03</td>\n",
       "      <td>F</td>\n",
       "      <td>2015-05-01 00:00:00</td>\n",
       "      <td>NaN</td>\n",
       "      <td>CA1</td>\n",
       "      <td>유지회원</td>\n",
       "      <td>2_일반</td>\n",
       "      <td>2_야간</td>\n",
       "      <td>6000</td>\n",
       "    </tr>\n",
       "    <tr>\n",
       "      <th>...</th>\n",
       "      <td>...</td>\n",
       "      <td>...</td>\n",
       "      <td>...</td>\n",
       "      <td>...</td>\n",
       "      <td>...</td>\n",
       "      <td>...</td>\n",
       "      <td>...</td>\n",
       "      <td>...</td>\n",
       "      <td>...</td>\n",
       "      <td>...</td>\n",
       "      <td>...</td>\n",
       "    </tr>\n",
       "    <tr>\n",
       "      <th>4187</th>\n",
       "      <td>HD676663</td>\n",
       "      <td>XXXX</td>\n",
       "      <td>C01</td>\n",
       "      <td>M</td>\n",
       "      <td>2019-03-14 00:00:00</td>\n",
       "      <td>NaN</td>\n",
       "      <td>CA1</td>\n",
       "      <td>유지회원</td>\n",
       "      <td>2_일반</td>\n",
       "      <td>0_종일</td>\n",
       "      <td>10500</td>\n",
       "    </tr>\n",
       "    <tr>\n",
       "      <th>4188</th>\n",
       "      <td>HD246549</td>\n",
       "      <td>XXXXX</td>\n",
       "      <td>C01</td>\n",
       "      <td>F</td>\n",
       "      <td>2019-03-14 00:00:00</td>\n",
       "      <td>NaN</td>\n",
       "      <td>CA1</td>\n",
       "      <td>유지회원</td>\n",
       "      <td>2_일반</td>\n",
       "      <td>0_종일</td>\n",
       "      <td>10500</td>\n",
       "    </tr>\n",
       "    <tr>\n",
       "      <th>4189</th>\n",
       "      <td>GD037007</td>\n",
       "      <td>XXXXX</td>\n",
       "      <td>C03</td>\n",
       "      <td>M</td>\n",
       "      <td>2019-03-14 00:00:00</td>\n",
       "      <td>NaN</td>\n",
       "      <td>CA1</td>\n",
       "      <td>유지회원</td>\n",
       "      <td>2_일반</td>\n",
       "      <td>2_야간</td>\n",
       "      <td>6000</td>\n",
       "    </tr>\n",
       "    <tr>\n",
       "      <th>4190</th>\n",
       "      <td>OA953150</td>\n",
       "      <td>XXXXX</td>\n",
       "      <td>C01</td>\n",
       "      <td>M</td>\n",
       "      <td>2019-03-14 00:00:00</td>\n",
       "      <td>NaN</td>\n",
       "      <td>CA1</td>\n",
       "      <td>유지회원</td>\n",
       "      <td>2_일반</td>\n",
       "      <td>0_종일</td>\n",
       "      <td>10500</td>\n",
       "    </tr>\n",
       "    <tr>\n",
       "      <th>4191</th>\n",
       "      <td>IK692635</td>\n",
       "      <td>XXXXX</td>\n",
       "      <td>C02</td>\n",
       "      <td>F</td>\n",
       "      <td>2019-03-15 00:00:00</td>\n",
       "      <td>NaN</td>\n",
       "      <td>CA1</td>\n",
       "      <td>유지회원</td>\n",
       "      <td>2_일반</td>\n",
       "      <td>1_주간</td>\n",
       "      <td>7500</td>\n",
       "    </tr>\n",
       "  </tbody>\n",
       "</table>\n",
       "<p>4192 rows × 11 columns</p>\n",
       "</div>"
      ],
      "text/plain": [
       "     customer_id   name class gender           start_date end_date  \\\n",
       "0       OA832399   XXXX   C01      F  2015-05-01 00:00:00      NaN   \n",
       "1       PL270116  XXXXX   C01      M  2015-05-01 00:00:00      NaN   \n",
       "2       OA974876  XXXXX   C01      M  2015-05-01 00:00:00      NaN   \n",
       "3       HD024127  XXXXX   C01      F  2015-05-01 00:00:00      NaN   \n",
       "4       HD661448  XXXXX   C03      F  2015-05-01 00:00:00      NaN   \n",
       "...          ...    ...   ...    ...                  ...      ...   \n",
       "4187    HD676663   XXXX   C01      M  2019-03-14 00:00:00      NaN   \n",
       "4188    HD246549  XXXXX   C01      F  2019-03-14 00:00:00      NaN   \n",
       "4189    GD037007  XXXXX   C03      M  2019-03-14 00:00:00      NaN   \n",
       "4190    OA953150  XXXXX   C01      M  2019-03-14 00:00:00      NaN   \n",
       "4191    IK692635  XXXXX   C02      F  2019-03-15 00:00:00      NaN   \n",
       "\n",
       "     campaign_id is_deleted campaign_name class_name  price  \n",
       "0            CA1       유지회원          2_일반       0_종일  10500  \n",
       "1            CA1       유지회원          2_일반       0_종일  10500  \n",
       "2            CA1       유지회원          2_일반       0_종일  10500  \n",
       "3            CA1       유지회원          2_일반       0_종일  10500  \n",
       "4            CA1       유지회원          2_일반       2_야간   6000  \n",
       "...          ...        ...           ...        ...    ...  \n",
       "4187         CA1       유지회원          2_일반       0_종일  10500  \n",
       "4188         CA1       유지회원          2_일반       0_종일  10500  \n",
       "4189         CA1       유지회원          2_일반       2_야간   6000  \n",
       "4190         CA1       유지회원          2_일반       0_종일  10500  \n",
       "4191         CA1       유지회원          2_일반       1_주간   7500  \n",
       "\n",
       "[4192 rows x 11 columns]"
      ]
     },
     "execution_count": 73,
     "metadata": {},
     "output_type": "execute_result"
    }
   ],
   "source": [
    "customer_cam_cl= customer_cam.merge(class_master, on ='class', how='left')\n",
    "customer_cam_cl"
   ]
  },
  {
   "cell_type": "code",
   "execution_count": 74,
   "metadata": {},
   "outputs": [
    {
     "name": "stdout",
     "output_type": "stream",
     "text": [
      "<class 'pandas.core.frame.DataFrame'>\n",
      "Int64Index: 4192 entries, 0 to 4191\n",
      "Data columns (total 11 columns):\n",
      " #   Column         Non-Null Count  Dtype \n",
      "---  ------         --------------  ----- \n",
      " 0   customer_id    4192 non-null   object\n",
      " 1   name           4192 non-null   object\n",
      " 2   class          4192 non-null   object\n",
      " 3   gender         4192 non-null   object\n",
      " 4   start_date     4192 non-null   object\n",
      " 5   end_date       1350 non-null   object\n",
      " 6   campaign_id    4192 non-null   object\n",
      " 7   is_deleted     4192 non-null   object\n",
      " 8   campaign_name  4192 non-null   object\n",
      " 9   class_name     4192 non-null   object\n",
      " 10  price          4192 non-null   int64 \n",
      "dtypes: int64(1), object(10)\n",
      "memory usage: 393.0+ KB\n"
     ]
    }
   ],
   "source": [
    "customer_cam_cl.info()"
   ]
  },
  {
   "cell_type": "code",
   "execution_count": 75,
   "metadata": {},
   "outputs": [
    {
     "data": {
      "text/plain": [
       "customer_id         0\n",
       "name                0\n",
       "class               0\n",
       "gender              0\n",
       "start_date          0\n",
       "end_date         2842\n",
       "campaign_id         0\n",
       "is_deleted          0\n",
       "campaign_name       0\n",
       "class_name          0\n",
       "price               0\n",
       "dtype: int64"
      ]
     },
     "execution_count": 75,
     "metadata": {},
     "output_type": "execute_result"
    }
   ],
   "source": [
    "customer_cam_cl.isnull().sum()  # end_date null값 확인"
   ]
  },
  {
   "cell_type": "markdown",
   "metadata": {},
   "source": [
    "\n",
    "### campaign_name별  클래스 & 성별 등록 회원수\n",
    "\n",
    "*  일반회원 > 입회비반액회원 >  입회비무료 회원순으로 등록한 회원들의 수의 크기를 확인할 수있다.\n",
    "\n",
    "* 종일클래스(C01)> 야간클래스(C03) > 주간클래스 (C02)순으로 회원수의 크키가 나열되어있으며, \n",
    "\n",
    "* 주간에는 여성회원수가 월등히 높았으면, 야간에는 남성회원수가 월등히 높았다는 사실을 보았을때,    \n",
    "  주간에는 주부 또는 점심시간을 할애해 운동하는 여성직장인들, 그리고 야간에는 퇴근 후 운동하는 남성들로 추축해 볼 수 있다.  \n",
    "  그래서 주간클래스에는 여성들을 위한 운동프로그램으로 요가나, 필라테스, 또는 매달 1회 그룹피티로 이벤트를 진행할 수 있고, \n",
    "  남성 회원들이 많은 야간클래스도 그룹 p.t 또는    \n",
    "  운동시 단백질 제공 또는 아마추어 보디빌딩 대회라는 중단기적인 목표를 주어 지속적인 센터 출석률을 높일 수 있을 거라고 판단된다(종일 고객들도 포함). "
   ]
  },
  {
   "cell_type": "code",
   "execution_count": 76,
   "metadata": {},
   "outputs": [
    {
     "data": {
      "text/html": [
       "<div>\n",
       "<style scoped>\n",
       "    .dataframe tbody tr th:only-of-type {\n",
       "        vertical-align: middle;\n",
       "    }\n",
       "\n",
       "    .dataframe tbody tr th {\n",
       "        vertical-align: top;\n",
       "    }\n",
       "\n",
       "    .dataframe thead th {\n",
       "        text-align: right;\n",
       "    }\n",
       "</style>\n",
       "<table border=\"1\" class=\"dataframe\">\n",
       "  <thead>\n",
       "    <tr style=\"text-align: right;\">\n",
       "      <th></th>\n",
       "      <th>customer_id</th>\n",
       "      <th>name</th>\n",
       "      <th>class</th>\n",
       "      <th>gender</th>\n",
       "      <th>start_date</th>\n",
       "      <th>end_date</th>\n",
       "      <th>campaign_id</th>\n",
       "      <th>is_deleted</th>\n",
       "      <th>campaign_name</th>\n",
       "      <th>class_name</th>\n",
       "      <th>price</th>\n",
       "    </tr>\n",
       "  </thead>\n",
       "  <tbody>\n",
       "    <tr>\n",
       "      <th>0</th>\n",
       "      <td>OA832399</td>\n",
       "      <td>XXXX</td>\n",
       "      <td>C01</td>\n",
       "      <td>F</td>\n",
       "      <td>2015-05-01 00:00:00</td>\n",
       "      <td>NaN</td>\n",
       "      <td>CA1</td>\n",
       "      <td>유지회원</td>\n",
       "      <td>2_일반</td>\n",
       "      <td>0_종일</td>\n",
       "      <td>10500</td>\n",
       "    </tr>\n",
       "    <tr>\n",
       "      <th>1</th>\n",
       "      <td>PL270116</td>\n",
       "      <td>XXXXX</td>\n",
       "      <td>C01</td>\n",
       "      <td>M</td>\n",
       "      <td>2015-05-01 00:00:00</td>\n",
       "      <td>NaN</td>\n",
       "      <td>CA1</td>\n",
       "      <td>유지회원</td>\n",
       "      <td>2_일반</td>\n",
       "      <td>0_종일</td>\n",
       "      <td>10500</td>\n",
       "    </tr>\n",
       "    <tr>\n",
       "      <th>2</th>\n",
       "      <td>OA974876</td>\n",
       "      <td>XXXXX</td>\n",
       "      <td>C01</td>\n",
       "      <td>M</td>\n",
       "      <td>2015-05-01 00:00:00</td>\n",
       "      <td>NaN</td>\n",
       "      <td>CA1</td>\n",
       "      <td>유지회원</td>\n",
       "      <td>2_일반</td>\n",
       "      <td>0_종일</td>\n",
       "      <td>10500</td>\n",
       "    </tr>\n",
       "    <tr>\n",
       "      <th>3</th>\n",
       "      <td>HD024127</td>\n",
       "      <td>XXXXX</td>\n",
       "      <td>C01</td>\n",
       "      <td>F</td>\n",
       "      <td>2015-05-01 00:00:00</td>\n",
       "      <td>NaN</td>\n",
       "      <td>CA1</td>\n",
       "      <td>유지회원</td>\n",
       "      <td>2_일반</td>\n",
       "      <td>0_종일</td>\n",
       "      <td>10500</td>\n",
       "    </tr>\n",
       "    <tr>\n",
       "      <th>4</th>\n",
       "      <td>HD661448</td>\n",
       "      <td>XXXXX</td>\n",
       "      <td>C03</td>\n",
       "      <td>F</td>\n",
       "      <td>2015-05-01 00:00:00</td>\n",
       "      <td>NaN</td>\n",
       "      <td>CA1</td>\n",
       "      <td>유지회원</td>\n",
       "      <td>2_일반</td>\n",
       "      <td>2_야간</td>\n",
       "      <td>6000</td>\n",
       "    </tr>\n",
       "  </tbody>\n",
       "</table>\n",
       "</div>"
      ],
      "text/plain": [
       "  customer_id   name class gender           start_date end_date campaign_id  \\\n",
       "0    OA832399   XXXX   C01      F  2015-05-01 00:00:00      NaN         CA1   \n",
       "1    PL270116  XXXXX   C01      M  2015-05-01 00:00:00      NaN         CA1   \n",
       "2    OA974876  XXXXX   C01      M  2015-05-01 00:00:00      NaN         CA1   \n",
       "3    HD024127  XXXXX   C01      F  2015-05-01 00:00:00      NaN         CA1   \n",
       "4    HD661448  XXXXX   C03      F  2015-05-01 00:00:00      NaN         CA1   \n",
       "\n",
       "  is_deleted campaign_name class_name  price  \n",
       "0       유지회원          2_일반       0_종일  10500  \n",
       "1       유지회원          2_일반       0_종일  10500  \n",
       "2       유지회원          2_일반       0_종일  10500  \n",
       "3       유지회원          2_일반       0_종일  10500  \n",
       "4       유지회원          2_일반       2_야간   6000  "
      ]
     },
     "execution_count": 76,
     "metadata": {},
     "output_type": "execute_result"
    }
   ],
   "source": [
    "customer_cam_cl.head()"
   ]
  },
  {
   "cell_type": "code",
   "execution_count": 77,
   "metadata": {},
   "outputs": [
    {
     "data": {
      "text/plain": [
       "campaign_name\n",
       "0_입회비반액할인     650\n",
       "1_입회비무료       492\n",
       "2_일반         3050\n",
       "Name: class, dtype: int64"
      ]
     },
     "execution_count": 77,
     "metadata": {},
     "output_type": "execute_result"
    }
   ],
   "source": [
    "# campaign_name 별 클래스 등록회원수\n",
    "customer_cam_cl.groupby('campaign_name')['class'].count()"
   ]
  },
  {
   "cell_type": "code",
   "execution_count": 78,
   "metadata": {},
   "outputs": [
    {
     "data": {
      "text/plain": [
       "<AxesSubplot:xlabel='campaign_name', ylabel='count'>"
      ]
     },
     "execution_count": 78,
     "metadata": {},
     "output_type": "execute_result"
    },
    {
     "data": {
      "image/png": "[encoded data removed]",
      "text/plain": [
       "<Figure size 432x288 with 1 Axes>"
      ]
     },
     "metadata": {
      "needs_background": "light"
     },
     "output_type": "display_data"
    }
   ],
   "source": [
    "# campaign_name 별 클래스 등록회원수 그래프\n",
    "# 종일클래스:(C01)   주간클래스:(C02)   야간클래스:(C03) \n",
    "# 캠페인에 속한 그룹이(입회반액할인 & 입회비무료)들이 그렇지 않은 일반회원들에 비해 등록률이 현저히 낮은걸로 보았을때 \n",
    "# 이 캠페인은 그리 효과적이지 못했다고 판단한다. 가격할인이라는 것에 초점을 두는 것 보다 조금 더  회원들에게 운동에 \n",
    "# 관한 동기부여나 목표를 줄 수 있는 예를들어 철인3종경기 준비부터 완주까지라는 단기 프로젝트 참가인원 모집 같은\n",
    "# 가격 외의 것들로 회원들을 유치할 수 도 있을 것 같다.\n",
    "sns.countplot(x='campaign_name' , data=customer_cam_cl, hue='class')"
   ]
  },
  {
   "cell_type": "code",
   "execution_count": 79,
   "metadata": {},
   "outputs": [
    {
     "data": {
      "text/plain": [
       "campaign_name  gender\n",
       "0_입회비반액할인      F          286\n",
       "               M          364\n",
       "1_입회비무료        F          251\n",
       "               M          241\n",
       "2_일반           F         1446\n",
       "               M         1604\n",
       "Name: customer_id, dtype: int64"
      ]
     },
     "execution_count": 79,
     "metadata": {},
     "output_type": "execute_result"
    }
   ],
   "source": [
    "# campaign_name 별 성별 등록회원수 확인\n",
    "camgen=customer_cam_cl.groupby(['campaign_name','gender']).count()\n",
    "camgen.loc[:,'customer_id']"
   ]
  },
  {
   "cell_type": "code",
   "execution_count": 80,
   "metadata": {},
   "outputs": [
    {
     "data": {
      "text/plain": [
       "<AxesSubplot:xlabel='campaign_name', ylabel='count'>"
      ]
     },
     "execution_count": 80,
     "metadata": {},
     "output_type": "execute_result"
    },
    {
     "data": {
      "image/png": "[encoded data removed]",
      "text/plain": [
       "<Figure size 432x288 with 1 Axes>"
      ]
     },
     "metadata": {
      "needs_background": "light"
     },
     "output_type": "display_data"
    }
   ],
   "source": [
    "# campaign_name 별 성별 등록회원수 그래프\n",
    "# 그래프를 보고 확인 할 수 있듯이 남성회원들이 여성회원들에 비해 '입회비무료' 회원들을 제외하고 더 많음을 알 수 있다.\n",
    "# 여성회원을 더 유치하기 위한 방법들을 구상해 봐도 좋을 것 같다. 예) 여성회원들을 위한 여성 트레이너 모집\n",
    "sns.countplot(x='campaign_name' , data=customer_cam_cl, hue='gender')"
   ]
  },
  {
   "cell_type": "code",
   "execution_count": 81,
   "metadata": {},
   "outputs": [
    {
     "data": {
      "text/html": [
       "<div>\n",
       "<style scoped>\n",
       "    .dataframe tbody tr th:only-of-type {\n",
       "        vertical-align: middle;\n",
       "    }\n",
       "\n",
       "    .dataframe tbody tr th {\n",
       "        vertical-align: top;\n",
       "    }\n",
       "\n",
       "    .dataframe thead th {\n",
       "        text-align: right;\n",
       "    }\n",
       "</style>\n",
       "<table border=\"1\" class=\"dataframe\">\n",
       "  <thead>\n",
       "    <tr style=\"text-align: right;\">\n",
       "      <th></th>\n",
       "      <th></th>\n",
       "      <th>customer_id</th>\n",
       "      <th>name</th>\n",
       "      <th>start_date</th>\n",
       "      <th>end_date</th>\n",
       "      <th>campaign_id</th>\n",
       "      <th>is_deleted</th>\n",
       "      <th>campaign_name</th>\n",
       "      <th>class_name</th>\n",
       "      <th>price</th>\n",
       "    </tr>\n",
       "    <tr>\n",
       "      <th>class</th>\n",
       "      <th>gender</th>\n",
       "      <th></th>\n",
       "      <th></th>\n",
       "      <th></th>\n",
       "      <th></th>\n",
       "      <th></th>\n",
       "      <th></th>\n",
       "      <th></th>\n",
       "      <th></th>\n",
       "      <th></th>\n",
       "    </tr>\n",
       "  </thead>\n",
       "  <tbody>\n",
       "    <tr>\n",
       "      <th rowspan=\"2\" valign=\"top\">C01</th>\n",
       "      <th>F</th>\n",
       "      <td>822</td>\n",
       "      <td>822</td>\n",
       "      <td>822</td>\n",
       "      <td>261</td>\n",
       "      <td>822</td>\n",
       "      <td>822</td>\n",
       "      <td>822</td>\n",
       "      <td>822</td>\n",
       "      <td>822</td>\n",
       "    </tr>\n",
       "    <tr>\n",
       "      <th>M</th>\n",
       "      <td>1223</td>\n",
       "      <td>1223</td>\n",
       "      <td>1223</td>\n",
       "      <td>403</td>\n",
       "      <td>1223</td>\n",
       "      <td>1223</td>\n",
       "      <td>1223</td>\n",
       "      <td>1223</td>\n",
       "      <td>1223</td>\n",
       "    </tr>\n",
       "    <tr>\n",
       "      <th rowspan=\"2\" valign=\"top\">C02</th>\n",
       "      <th>F</th>\n",
       "      <td>835</td>\n",
       "      <td>835</td>\n",
       "      <td>835</td>\n",
       "      <td>275</td>\n",
       "      <td>835</td>\n",
       "      <td>835</td>\n",
       "      <td>835</td>\n",
       "      <td>835</td>\n",
       "      <td>835</td>\n",
       "    </tr>\n",
       "    <tr>\n",
       "      <th>M</th>\n",
       "      <td>184</td>\n",
       "      <td>184</td>\n",
       "      <td>184</td>\n",
       "      <td>69</td>\n",
       "      <td>184</td>\n",
       "      <td>184</td>\n",
       "      <td>184</td>\n",
       "      <td>184</td>\n",
       "      <td>184</td>\n",
       "    </tr>\n",
       "    <tr>\n",
       "      <th rowspan=\"2\" valign=\"top\">C03</th>\n",
       "      <th>F</th>\n",
       "      <td>326</td>\n",
       "      <td>326</td>\n",
       "      <td>326</td>\n",
       "      <td>95</td>\n",
       "      <td>326</td>\n",
       "      <td>326</td>\n",
       "      <td>326</td>\n",
       "      <td>326</td>\n",
       "      <td>326</td>\n",
       "    </tr>\n",
       "    <tr>\n",
       "      <th>M</th>\n",
       "      <td>802</td>\n",
       "      <td>802</td>\n",
       "      <td>802</td>\n",
       "      <td>247</td>\n",
       "      <td>802</td>\n",
       "      <td>802</td>\n",
       "      <td>802</td>\n",
       "      <td>802</td>\n",
       "      <td>802</td>\n",
       "    </tr>\n",
       "  </tbody>\n",
       "</table>\n",
       "</div>"
      ],
      "text/plain": [
       "              customer_id  name  start_date  end_date  campaign_id  \\\n",
       "class gender                                                         \n",
       "C01   F               822   822         822       261          822   \n",
       "      M              1223  1223        1223       403         1223   \n",
       "C02   F               835   835         835       275          835   \n",
       "      M               184   184         184        69          184   \n",
       "C03   F               326   326         326        95          326   \n",
       "      M               802   802         802       247          802   \n",
       "\n",
       "              is_deleted  campaign_name  class_name  price  \n",
       "class gender                                                \n",
       "C01   F              822            822         822    822  \n",
       "      M             1223           1223        1223   1223  \n",
       "C02   F              835            835         835    835  \n",
       "      M              184            184         184    184  \n",
       "C03   F              326            326         326    326  \n",
       "      M              802            802         802    802  "
      ]
     },
     "execution_count": 81,
     "metadata": {},
     "output_type": "execute_result"
    }
   ],
   "source": [
    "customer_cam_cl.groupby(['class','gender']).count()"
   ]
  },
  {
   "cell_type": "code",
   "execution_count": 82,
   "metadata": {},
   "outputs": [
    {
     "data": {
      "text/plain": [
       "class  gender\n",
       "C01    F          822\n",
       "       M         1223\n",
       "C02    F          835\n",
       "       M          184\n",
       "C03    F          326\n",
       "       M          802\n",
       "Name: customer_id, dtype: int64"
      ]
     },
     "execution_count": 82,
     "metadata": {},
     "output_type": "execute_result"
    }
   ],
   "source": [
    "# 클래스별 성별 회원수 그래프\n",
    "# 주간에는 여성회원들이 월등히 많고, 야간에는 남성회원들이 월등이 많다.\n",
    "classgender=customer_cam_cl.groupby(['class','gender']).count()\n",
    "classgender['customer_id']"
   ]
  },
  {
   "cell_type": "code",
   "execution_count": 83,
   "metadata": {},
   "outputs": [
    {
     "data": {
      "text/plain": [
       "<AxesSubplot:xlabel='class', ylabel='count'>"
      ]
     },
     "execution_count": 83,
     "metadata": {},
     "output_type": "execute_result"
    },
    {
     "data": {
      "image/png": "[encoded data removed]",
      "text/plain": [
       "<Figure size 432x288 with 1 Axes>"
      ]
     },
     "metadata": {
      "needs_background": "light"
     },
     "output_type": "display_data"
    }
   ],
   "source": [
    "# 클래스별 성별 회원수 그래프\n",
    "sns.countplot(x='class' , data=customer_cam_cl, hue='gender')"
   ]
  },
  {
   "cell_type": "code",
   "execution_count": 84,
   "metadata": {},
   "outputs": [
    {
     "data": {
      "text/plain": [
       "campaign_name  gender\n",
       "0_입회비반액할인      F          286\n",
       "               M          364\n",
       "1_입회비무료        F          251\n",
       "               M          241\n",
       "2_일반           F         1446\n",
       "               M         1604\n",
       "Name: customer_id, dtype: int64"
      ]
     },
     "execution_count": 84,
     "metadata": {},
     "output_type": "execute_result"
    }
   ],
   "source": [
    "class1=customer_cam_cl.groupby(['campaign_name','gender']).count()\n",
    "class1['customer_id']"
   ]
  },
  {
   "cell_type": "code",
   "execution_count": 85,
   "metadata": {},
   "outputs": [
    {
     "data": {
      "text/plain": [
       "<AxesSubplot:xlabel='campaign_name', ylabel='count'>"
      ]
     },
     "execution_count": 85,
     "metadata": {},
     "output_type": "execute_result"
    },
    {
     "data": {
      "image/png": "[encoded data removed]",
      "text/plain": [
       "<Figure size 432x288 with 1 Axes>"
      ]
     },
     "metadata": {
      "needs_background": "light"
     },
     "output_type": "display_data"
    }
   ],
   "source": [
    "# 입회비 무료를 제외하고 전체적으로 남성회원 수의 비율이 높다.\n",
    "sns.countplot(x='campaign_name' , data=customer_cam_cl, hue='gender')"
   ]
  },
  {
   "cell_type": "markdown",
   "metadata": {},
   "source": [
    "### 전체적으로 여성회원 수에 비해 남성회원 수가 많다.\n",
    "### 여성회원 수를 늘리기 위해 여성회원들을 위한 특별한 이벤트가 필요할듯 합니다."
   ]
  },
  {
   "cell_type": "code",
   "execution_count": 86,
   "metadata": {},
   "outputs": [
    {
     "data": {
      "text/plain": [
       "gender  campaign_id  campaign_name\n",
       "M       CA1          2_일반             1604\n",
       "F       CA1          2_일반             1446\n",
       "M       CA2          0_입회비반액할인         364\n",
       "F       CA2          0_입회비반액할인         286\n",
       "        CA3          1_입회비무료           251\n",
       "M       CA3          1_입회비무료           241\n",
       "dtype: int64"
      ]
     },
     "execution_count": 86,
     "metadata": {},
     "output_type": "execute_result"
    }
   ],
   "source": [
    "customer_cam_cl[['gender', 'campaign_id', 'campaign_name']].value_counts()"
   ]
  },
  {
   "cell_type": "code",
   "execution_count": 87,
   "metadata": {},
   "outputs": [
    {
     "data": {
      "text/plain": [
       "gender\n",
       "F    16849500\n",
       "M    19033500\n",
       "Name: price, dtype: int64"
      ]
     },
     "execution_count": 87,
     "metadata": {},
     "output_type": "execute_result"
    }
   ],
   "source": [
    "# 성별, 가격의 총합- 남성고객의 합이 2184000원 더 많음\n",
    "g=customer_cam_cl.groupby('gender')['price'].sum()\n",
    "g"
   ]
  },
  {
   "cell_type": "code",
   "execution_count": 88,
   "metadata": {},
   "outputs": [
    {
     "data": {
      "text/plain": [
       "class_name  gender\n",
       "0_종일        M         1223\n",
       "1_주간        F          835\n",
       "0_종일        F          822\n",
       "2_야간        M          802\n",
       "            F          326\n",
       "1_주간        M          184\n",
       "dtype: int64"
      ]
     },
     "execution_count": 88,
     "metadata": {},
     "output_type": "execute_result"
    }
   ],
   "source": [
    "cg=customer_cam_cl[['class_name','gender']].value_counts()\n",
    "cg"
   ]
  },
  {
   "cell_type": "markdown",
   "metadata": {},
   "source": [
    "### 최신고객 데이터 집계\n",
    "\n",
    " * 최신고객(2019-3월) 총 65 신규고객 발생"
   ]
  },
  {
   "cell_type": "code",
   "execution_count": 89,
   "metadata": {},
   "outputs": [
    {
     "data": {
      "text/html": [
       "<div>\n",
       "<style scoped>\n",
       "    .dataframe tbody tr th:only-of-type {\n",
       "        vertical-align: middle;\n",
       "    }\n",
       "\n",
       "    .dataframe tbody tr th {\n",
       "        vertical-align: top;\n",
       "    }\n",
       "\n",
       "    .dataframe thead th {\n",
       "        text-align: right;\n",
       "    }\n",
       "</style>\n",
       "<table border=\"1\" class=\"dataframe\">\n",
       "  <thead>\n",
       "    <tr style=\"text-align: right;\">\n",
       "      <th></th>\n",
       "      <th>index</th>\n",
       "      <th>customer_id</th>\n",
       "      <th>name</th>\n",
       "      <th>class</th>\n",
       "      <th>gender</th>\n",
       "      <th>start_date</th>\n",
       "      <th>end_date</th>\n",
       "      <th>campaign_id</th>\n",
       "      <th>is_deleted</th>\n",
       "      <th>campaign_name</th>\n",
       "      <th>class_name</th>\n",
       "      <th>price</th>\n",
       "    </tr>\n",
       "  </thead>\n",
       "  <tbody>\n",
       "    <tr>\n",
       "      <th>0</th>\n",
       "      <td>4191</td>\n",
       "      <td>IK692635</td>\n",
       "      <td>XXXXX</td>\n",
       "      <td>C02</td>\n",
       "      <td>F</td>\n",
       "      <td>2019-03-15 00:00:00</td>\n",
       "      <td>NaN</td>\n",
       "      <td>CA1</td>\n",
       "      <td>유지회원</td>\n",
       "      <td>2_일반</td>\n",
       "      <td>1_주간</td>\n",
       "      <td>7500</td>\n",
       "    </tr>\n",
       "    <tr>\n",
       "      <th>1</th>\n",
       "      <td>4190</td>\n",
       "      <td>OA953150</td>\n",
       "      <td>XXXXX</td>\n",
       "      <td>C01</td>\n",
       "      <td>M</td>\n",
       "      <td>2019-03-14 00:00:00</td>\n",
       "      <td>NaN</td>\n",
       "      <td>CA1</td>\n",
       "      <td>유지회원</td>\n",
       "      <td>2_일반</td>\n",
       "      <td>0_종일</td>\n",
       "      <td>10500</td>\n",
       "    </tr>\n",
       "    <tr>\n",
       "      <th>2</th>\n",
       "      <td>4189</td>\n",
       "      <td>GD037007</td>\n",
       "      <td>XXXXX</td>\n",
       "      <td>C03</td>\n",
       "      <td>M</td>\n",
       "      <td>2019-03-14 00:00:00</td>\n",
       "      <td>NaN</td>\n",
       "      <td>CA1</td>\n",
       "      <td>유지회원</td>\n",
       "      <td>2_일반</td>\n",
       "      <td>2_야간</td>\n",
       "      <td>6000</td>\n",
       "    </tr>\n",
       "    <tr>\n",
       "      <th>3</th>\n",
       "      <td>4188</td>\n",
       "      <td>HD246549</td>\n",
       "      <td>XXXXX</td>\n",
       "      <td>C01</td>\n",
       "      <td>F</td>\n",
       "      <td>2019-03-14 00:00:00</td>\n",
       "      <td>NaN</td>\n",
       "      <td>CA1</td>\n",
       "      <td>유지회원</td>\n",
       "      <td>2_일반</td>\n",
       "      <td>0_종일</td>\n",
       "      <td>10500</td>\n",
       "    </tr>\n",
       "    <tr>\n",
       "      <th>4</th>\n",
       "      <td>4187</td>\n",
       "      <td>HD676663</td>\n",
       "      <td>XXXX</td>\n",
       "      <td>C01</td>\n",
       "      <td>M</td>\n",
       "      <td>2019-03-14 00:00:00</td>\n",
       "      <td>NaN</td>\n",
       "      <td>CA1</td>\n",
       "      <td>유지회원</td>\n",
       "      <td>2_일반</td>\n",
       "      <td>0_종일</td>\n",
       "      <td>10500</td>\n",
       "    </tr>\n",
       "  </tbody>\n",
       "</table>\n",
       "</div>"
      ],
      "text/plain": [
       "   index customer_id   name class gender           start_date end_date  \\\n",
       "0   4191    IK692635  XXXXX   C02      F  2019-03-15 00:00:00      NaN   \n",
       "1   4190    OA953150  XXXXX   C01      M  2019-03-14 00:00:00      NaN   \n",
       "2   4189    GD037007  XXXXX   C03      M  2019-03-14 00:00:00      NaN   \n",
       "3   4188    HD246549  XXXXX   C01      F  2019-03-14 00:00:00      NaN   \n",
       "4   4187    HD676663   XXXX   C01      M  2019-03-14 00:00:00      NaN   \n",
       "\n",
       "  campaign_id is_deleted campaign_name class_name  price  \n",
       "0         CA1       유지회원          2_일반       1_주간   7500  \n",
       "1         CA1       유지회원          2_일반       0_종일  10500  \n",
       "2         CA1       유지회원          2_일반       2_야간   6000  \n",
       "3         CA1       유지회원          2_일반       0_종일  10500  \n",
       "4         CA1       유지회원          2_일반       0_종일  10500  "
      ]
     },
     "execution_count": 89,
     "metadata": {},
     "output_type": "execute_result"
    }
   ],
   "source": [
    "new_member=customer_cam_cl.sort_values(by='start_date', ascending=False).reset_index()\n",
    "new_member.head(5)"
   ]
  },
  {
   "cell_type": "code",
   "execution_count": 90,
   "metadata": {},
   "outputs": [
    {
     "data": {
      "text/html": [
       "<div>\n",
       "<style scoped>\n",
       "    .dataframe tbody tr th:only-of-type {\n",
       "        vertical-align: middle;\n",
       "    }\n",
       "\n",
       "    .dataframe tbody tr th {\n",
       "        vertical-align: top;\n",
       "    }\n",
       "\n",
       "    .dataframe thead th {\n",
       "        text-align: right;\n",
       "    }\n",
       "</style>\n",
       "<table border=\"1\" class=\"dataframe\">\n",
       "  <thead>\n",
       "    <tr style=\"text-align: right;\">\n",
       "      <th></th>\n",
       "      <th>gender</th>\n",
       "      <th>start_date</th>\n",
       "      <th>campaign_name</th>\n",
       "      <th>class_name</th>\n",
       "    </tr>\n",
       "  </thead>\n",
       "  <tbody>\n",
       "    <tr>\n",
       "      <th>0</th>\n",
       "      <td>F</td>\n",
       "      <td>2019-03-15 00:00:00</td>\n",
       "      <td>2_일반</td>\n",
       "      <td>1_주간</td>\n",
       "    </tr>\n",
       "    <tr>\n",
       "      <th>1</th>\n",
       "      <td>M</td>\n",
       "      <td>2019-03-14 00:00:00</td>\n",
       "      <td>2_일반</td>\n",
       "      <td>0_종일</td>\n",
       "    </tr>\n",
       "    <tr>\n",
       "      <th>2</th>\n",
       "      <td>M</td>\n",
       "      <td>2019-03-14 00:00:00</td>\n",
       "      <td>2_일반</td>\n",
       "      <td>2_야간</td>\n",
       "    </tr>\n",
       "    <tr>\n",
       "      <th>3</th>\n",
       "      <td>F</td>\n",
       "      <td>2019-03-14 00:00:00</td>\n",
       "      <td>2_일반</td>\n",
       "      <td>0_종일</td>\n",
       "    </tr>\n",
       "    <tr>\n",
       "      <th>4</th>\n",
       "      <td>M</td>\n",
       "      <td>2019-03-14 00:00:00</td>\n",
       "      <td>2_일반</td>\n",
       "      <td>0_종일</td>\n",
       "    </tr>\n",
       "    <tr>\n",
       "      <th>...</th>\n",
       "      <td>...</td>\n",
       "      <td>...</td>\n",
       "      <td>...</td>\n",
       "      <td>...</td>\n",
       "    </tr>\n",
       "    <tr>\n",
       "      <th>60</th>\n",
       "      <td>M</td>\n",
       "      <td>2019-03-01 00:00:00</td>\n",
       "      <td>2_일반</td>\n",
       "      <td>2_야간</td>\n",
       "    </tr>\n",
       "    <tr>\n",
       "      <th>61</th>\n",
       "      <td>M</td>\n",
       "      <td>2019-03-01 00:00:00</td>\n",
       "      <td>2_일반</td>\n",
       "      <td>0_종일</td>\n",
       "    </tr>\n",
       "    <tr>\n",
       "      <th>62</th>\n",
       "      <td>F</td>\n",
       "      <td>2019-03-01 00:00:00</td>\n",
       "      <td>2_일반</td>\n",
       "      <td>2_야간</td>\n",
       "    </tr>\n",
       "    <tr>\n",
       "      <th>63</th>\n",
       "      <td>F</td>\n",
       "      <td>2019-03-01 00:00:00</td>\n",
       "      <td>2_일반</td>\n",
       "      <td>0_종일</td>\n",
       "    </tr>\n",
       "    <tr>\n",
       "      <th>64</th>\n",
       "      <td>M</td>\n",
       "      <td>2019-03-01 00:00:00</td>\n",
       "      <td>2_일반</td>\n",
       "      <td>0_종일</td>\n",
       "    </tr>\n",
       "  </tbody>\n",
       "</table>\n",
       "<p>65 rows × 4 columns</p>\n",
       "</div>"
      ],
      "text/plain": [
       "   gender           start_date campaign_name class_name\n",
       "0       F  2019-03-15 00:00:00          2_일반       1_주간\n",
       "1       M  2019-03-14 00:00:00          2_일반       0_종일\n",
       "2       M  2019-03-14 00:00:00          2_일반       2_야간\n",
       "3       F  2019-03-14 00:00:00          2_일반       0_종일\n",
       "4       M  2019-03-14 00:00:00          2_일반       0_종일\n",
       "..    ...                  ...           ...        ...\n",
       "60      M  2019-03-01 00:00:00          2_일반       2_야간\n",
       "61      M  2019-03-01 00:00:00          2_일반       0_종일\n",
       "62      F  2019-03-01 00:00:00          2_일반       2_야간\n",
       "63      F  2019-03-01 00:00:00          2_일반       0_종일\n",
       "64      M  2019-03-01 00:00:00          2_일반       0_종일\n",
       "\n",
       "[65 rows x 4 columns]"
      ]
     },
     "execution_count": 90,
     "metadata": {},
     "output_type": "execute_result"
    }
   ],
   "source": [
    "new_one=new_member.iloc[:65,[4,5,9,10]]\n",
    "new_one"
   ]
  },
  {
   "cell_type": "code",
   "execution_count": 91,
   "metadata": {},
   "outputs": [
    {
     "data": {
      "text/plain": [
       "gender\n",
       "F    32\n",
       "M    33\n",
       "Name: campaign_name, dtype: int64"
      ]
     },
     "execution_count": 91,
     "metadata": {},
     "output_type": "execute_result"
    }
   ],
   "source": [
    "# 최근 3월 달에 총 65 신규고객중 남자고객이 33, 여자고객이 32  성별 고객 유입수 비슷함.\n",
    "new_one.groupby('gender')['campaign_name'].count()"
   ]
  },
  {
   "cell_type": "code",
   "execution_count": 92,
   "metadata": {},
   "outputs": [
    {
     "data": {
      "text/plain": [
       "class_name\n",
       "0_종일    31\n",
       "1_주간    16\n",
       "2_야간    18\n",
       "Name: campaign_name, dtype: int64"
      ]
     },
     "execution_count": 92,
     "metadata": {},
     "output_type": "execute_result"
    }
   ],
   "source": [
    "new_one.groupby('class_name')['campaign_name'].count()"
   ]
  },
  {
   "cell_type": "code",
   "execution_count": 93,
   "metadata": {},
   "outputs": [
    {
     "name": "stderr",
     "output_type": "stream",
     "text": [
      "/Library/Frameworks/Python.framework/Versions/3.10/lib/python3.10/site-packages/seaborn/_decorators.py:36: FutureWarning: Pass the following variable as a keyword arg: x. From version 0.12, the only valid positional argument will be `data`, and passing other arguments without an explicit keyword will result in an error or misinterpretation.\n",
      "  warnings.warn(\n"
     ]
    },
    {
     "data": {
      "text/plain": [
       "<AxesSubplot:xlabel='class_name', ylabel='count'>"
      ]
     },
     "execution_count": 93,
     "metadata": {},
     "output_type": "execute_result"
    },
    {
     "data": {
      "image/png": "[encoded data removed]",
      "text/plain": [
       "<Figure size 432x288 with 1 Axes>"
      ]
     },
     "metadata": {
      "needs_background": "light"
     },
     "output_type": "display_data"
    }
   ],
   "source": [
    "# 신규최원중 종일회원이 31, 주간회원이 16, 야간회원이 18 회비가 가장비싼 종일회원의 회원수가 가장 높은 비율을 차지함.\n",
    "sns.countplot(new_one['class_name'])"
   ]
  },
  {
   "cell_type": "code",
   "execution_count": 94,
   "metadata": {},
   "outputs": [
    {
     "data": {
      "text/plain": [
       "class_name  campaign_id\n",
       "0_종일        CA1            1467\n",
       "            CA2             338\n",
       "            CA3             240\n",
       "1_주간        CA1             744\n",
       "            CA2             147\n",
       "            CA3             128\n",
       "2_야간        CA1             839\n",
       "            CA2             165\n",
       "            CA3             124\n",
       "Name: campaign_name, dtype: int64"
      ]
     },
     "execution_count": 94,
     "metadata": {},
     "output_type": "execute_result"
    }
   ],
   "source": [
    "customer_cam_cl.groupby(['class_name', 'campaign_id'])['campaign_name'].count()\n",
    "# CA1 일반 / CA2 입회비반액할인 /CA3 입회비무료 \n",
    "# 입회비가 무료입에도 불구하고 모든 반에서 회원인원수가 가장적다. \n",
    "# 입회비 무료 이벤트는 큰 메리트는 없는것으로 파악되어 다음에는 다른 이벤트로 대체해야 될 것으로 봐야할것 같다."
   ]
  },
  {
   "cell_type": "markdown",
   "metadata": {},
   "source": [
    "### 유저별 월평균 이용횟수"
   ]
  },
  {
   "cell_type": "code",
   "execution_count": 95,
   "metadata": {},
   "outputs": [],
   "source": [
    "use_log['usedate'] = pd.to_datetime(use_log['usedate'])\n",
    "use_log['use_month'] = use_log['usedate'].dt.strftime('%Y%m')"
   ]
  },
  {
   "cell_type": "code",
   "execution_count": 96,
   "metadata": {},
   "outputs": [
    {
     "data": {
      "text/plain": [
       "customer_id  usedate   \n",
       "AS002855     2018-04-07    1\n",
       "             2018-04-14    1\n",
       "             2018-04-21    1\n",
       "             2018-04-28    1\n",
       "             2018-05-05    1\n",
       "                          ..\n",
       "TS999855     2019-02-23    1\n",
       "             2019-03-02    1\n",
       "             2019-03-09    1\n",
       "             2019-03-16    1\n",
       "             2019-03-23    1\n",
       "Name: log_id, Length: 197428, dtype: int64"
      ]
     },
     "execution_count": 96,
     "metadata": {},
     "output_type": "execute_result"
    }
   ],
   "source": [
    "uselog=use_log.groupby(['customer_id','usedate'])['log_id'].count()\n",
    "uselog"
   ]
  },
  {
   "cell_type": "markdown",
   "metadata": {},
   "source": [
    "###  유저별 이용횟수의 통계량"
   ]
  },
  {
   "cell_type": "code",
   "execution_count": 97,
   "metadata": {},
   "outputs": [
    {
     "data": {
      "text/plain": [
       "customer_id\n",
       "AS002855    54\n",
       "AS008805    40\n",
       "AS009013     2\n",
       "AS009373    61\n",
       "AS015233    83\n",
       "Name: log_id, dtype: int64"
      ]
     },
     "execution_count": 97,
     "metadata": {},
     "output_type": "execute_result"
    }
   ],
   "source": [
    "user_decribe=use_log.groupby(['customer_id'])['log_id'].count()\n",
    "user_decribe.head()\n"
   ]
  },
  {
   "cell_type": "code",
   "execution_count": 98,
   "metadata": {},
   "outputs": [
    {
     "data": {
      "text/plain": [
       "count    4192.000000\n",
       "mean       47.096374\n",
       "std        24.218124\n",
       "min         1.000000\n",
       "25%        26.000000\n",
       "50%        53.000000\n",
       "75%        65.000000\n",
       "max       105.000000\n",
       "Name: log_id, dtype: float64"
      ]
     },
     "execution_count": 98,
     "metadata": {},
     "output_type": "execute_result"
    }
   ],
   "source": [
    "user_decribe.describe()"
   ]
  },
  {
   "cell_type": "markdown",
   "metadata": {},
   "source": [
    "### 탈퇴회원과 지속회원의 차이를 파악"
   ]
  },
  {
   "cell_type": "code",
   "execution_count": 99,
   "metadata": {},
   "outputs": [
    {
     "data": {
      "text/html": [
       "<div>\n",
       "<style scoped>\n",
       "    .dataframe tbody tr th:only-of-type {\n",
       "        vertical-align: middle;\n",
       "    }\n",
       "\n",
       "    .dataframe tbody tr th {\n",
       "        vertical-align: top;\n",
       "    }\n",
       "\n",
       "    .dataframe thead th {\n",
       "        text-align: right;\n",
       "    }\n",
       "</style>\n",
       "<table border=\"1\" class=\"dataframe\">\n",
       "  <thead>\n",
       "    <tr style=\"text-align: right;\">\n",
       "      <th></th>\n",
       "      <th>customer_id</th>\n",
       "      <th>name</th>\n",
       "      <th>class</th>\n",
       "      <th>gender</th>\n",
       "      <th>start_date</th>\n",
       "      <th>end_date</th>\n",
       "      <th>campaign_id</th>\n",
       "      <th>is_deleted</th>\n",
       "      <th>campaign_name</th>\n",
       "      <th>class_name</th>\n",
       "      <th>price</th>\n",
       "    </tr>\n",
       "  </thead>\n",
       "  <tbody>\n",
       "    <tr>\n",
       "      <th>0</th>\n",
       "      <td>OA832399</td>\n",
       "      <td>XXXX</td>\n",
       "      <td>C01</td>\n",
       "      <td>F</td>\n",
       "      <td>2015-05-01 00:00:00</td>\n",
       "      <td>NaN</td>\n",
       "      <td>CA1</td>\n",
       "      <td>유지회원</td>\n",
       "      <td>2_일반</td>\n",
       "      <td>0_종일</td>\n",
       "      <td>10500</td>\n",
       "    </tr>\n",
       "    <tr>\n",
       "      <th>1</th>\n",
       "      <td>PL270116</td>\n",
       "      <td>XXXXX</td>\n",
       "      <td>C01</td>\n",
       "      <td>M</td>\n",
       "      <td>2015-05-01 00:00:00</td>\n",
       "      <td>NaN</td>\n",
       "      <td>CA1</td>\n",
       "      <td>유지회원</td>\n",
       "      <td>2_일반</td>\n",
       "      <td>0_종일</td>\n",
       "      <td>10500</td>\n",
       "    </tr>\n",
       "    <tr>\n",
       "      <th>2</th>\n",
       "      <td>OA974876</td>\n",
       "      <td>XXXXX</td>\n",
       "      <td>C01</td>\n",
       "      <td>M</td>\n",
       "      <td>2015-05-01 00:00:00</td>\n",
       "      <td>NaN</td>\n",
       "      <td>CA1</td>\n",
       "      <td>유지회원</td>\n",
       "      <td>2_일반</td>\n",
       "      <td>0_종일</td>\n",
       "      <td>10500</td>\n",
       "    </tr>\n",
       "    <tr>\n",
       "      <th>3</th>\n",
       "      <td>HD024127</td>\n",
       "      <td>XXXXX</td>\n",
       "      <td>C01</td>\n",
       "      <td>F</td>\n",
       "      <td>2015-05-01 00:00:00</td>\n",
       "      <td>NaN</td>\n",
       "      <td>CA1</td>\n",
       "      <td>유지회원</td>\n",
       "      <td>2_일반</td>\n",
       "      <td>0_종일</td>\n",
       "      <td>10500</td>\n",
       "    </tr>\n",
       "    <tr>\n",
       "      <th>4</th>\n",
       "      <td>HD661448</td>\n",
       "      <td>XXXXX</td>\n",
       "      <td>C03</td>\n",
       "      <td>F</td>\n",
       "      <td>2015-05-01 00:00:00</td>\n",
       "      <td>NaN</td>\n",
       "      <td>CA1</td>\n",
       "      <td>유지회원</td>\n",
       "      <td>2_일반</td>\n",
       "      <td>2_야간</td>\n",
       "      <td>6000</td>\n",
       "    </tr>\n",
       "  </tbody>\n",
       "</table>\n",
       "</div>"
      ],
      "text/plain": [
       "  customer_id   name class gender           start_date end_date campaign_id  \\\n",
       "0    OA832399   XXXX   C01      F  2015-05-01 00:00:00      NaN         CA1   \n",
       "1    PL270116  XXXXX   C01      M  2015-05-01 00:00:00      NaN         CA1   \n",
       "2    OA974876  XXXXX   C01      M  2015-05-01 00:00:00      NaN         CA1   \n",
       "3    HD024127  XXXXX   C01      F  2015-05-01 00:00:00      NaN         CA1   \n",
       "4    HD661448  XXXXX   C03      F  2015-05-01 00:00:00      NaN         CA1   \n",
       "\n",
       "  is_deleted campaign_name class_name  price  \n",
       "0       유지회원          2_일반       0_종일  10500  \n",
       "1       유지회원          2_일반       0_종일  10500  \n",
       "2       유지회원          2_일반       0_종일  10500  \n",
       "3       유지회원          2_일반       0_종일  10500  \n",
       "4       유지회원          2_일반       2_야간   6000  "
      ]
     },
     "execution_count": 99,
     "metadata": {},
     "output_type": "execute_result"
    }
   ],
   "source": [
    "customer_cam_cl.head()"
   ]
  },
  {
   "cell_type": "code",
   "execution_count": 100,
   "metadata": {},
   "outputs": [
    {
     "data": {
      "text/plain": [
       "유지회원    2842\n",
       "탈퇴회원    1350\n",
       "Name: is_deleted, dtype: int64"
      ]
     },
     "execution_count": 100,
     "metadata": {},
     "output_type": "execute_result"
    }
   ],
   "source": [
    "customer_cam_cl['is_deleted'].value_counts()\n",
    "# 탈퇴회원: 2842명\n",
    "# 유지회원: 1350명\n",
    "# 총 4192 명"
   ]
  },
  {
   "cell_type": "code",
   "execution_count": 101,
   "metadata": {},
   "outputs": [
    {
     "data": {
      "text/plain": [
       "gender  is_deleted\n",
       "M       유지회원          1490\n",
       "F       유지회원          1352\n",
       "M       탈퇴회원           719\n",
       "F       탈퇴회원           631\n",
       "dtype: int64"
      ]
     },
     "execution_count": 101,
     "metadata": {},
     "output_type": "execute_result"
    }
   ],
   "source": [
    "customer_cam_cl[['gender','is_deleted']].value_counts()\n",
    "#탈퇴한 남성회원 : 1490명\n",
    "#탈퇴한 여성회원 : 1352명\n",
    "#지속중인 남성회원 : 719\n",
    "#지속중인 여성회원 : 631\n",
    "# 총 4192 명"
   ]
  },
  {
   "cell_type": "code",
   "execution_count": 102,
   "metadata": {},
   "outputs": [
    {
     "data": {
      "text/plain": [
       "<AxesSubplot:xlabel='is_deleted', ylabel='count'>"
      ]
     },
     "execution_count": 102,
     "metadata": {},
     "output_type": "execute_result"
    },
    {
     "data": {
      "image/png": "[encoded data removed]",
      "text/plain": [
       "<Figure size 432x288 with 1 Axes>"
      ]
     },
     "metadata": {
      "needs_background": "light"
     },
     "output_type": "display_data"
    }
   ],
   "source": [
    "# 성별 유지회원 및 탈퇴회원 비율\n",
    "sns.countplot(x='is_deleted', data=customer_cam_cl, hue='gender')"
   ]
  },
  {
   "cell_type": "code",
   "execution_count": 103,
   "metadata": {},
   "outputs": [
    {
     "data": {
      "text/html": [
       "<div>\n",
       "<style scoped>\n",
       "    .dataframe tbody tr th:only-of-type {\n",
       "        vertical-align: middle;\n",
       "    }\n",
       "\n",
       "    .dataframe tbody tr th {\n",
       "        vertical-align: top;\n",
       "    }\n",
       "\n",
       "    .dataframe thead th {\n",
       "        text-align: right;\n",
       "    }\n",
       "</style>\n",
       "<table border=\"1\" class=\"dataframe\">\n",
       "  <thead>\n",
       "    <tr style=\"text-align: right;\">\n",
       "      <th></th>\n",
       "      <th>price</th>\n",
       "    </tr>\n",
       "  </thead>\n",
       "  <tbody>\n",
       "    <tr>\n",
       "      <th>count</th>\n",
       "      <td>4192.000000</td>\n",
       "    </tr>\n",
       "    <tr>\n",
       "      <th>mean</th>\n",
       "      <td>8559.875954</td>\n",
       "    </tr>\n",
       "    <tr>\n",
       "      <th>std</th>\n",
       "      <td>1968.128971</td>\n",
       "    </tr>\n",
       "    <tr>\n",
       "      <th>min</th>\n",
       "      <td>6000.000000</td>\n",
       "    </tr>\n",
       "    <tr>\n",
       "      <th>25%</th>\n",
       "      <td>6000.000000</td>\n",
       "    </tr>\n",
       "    <tr>\n",
       "      <th>50%</th>\n",
       "      <td>7500.000000</td>\n",
       "    </tr>\n",
       "    <tr>\n",
       "      <th>75%</th>\n",
       "      <td>10500.000000</td>\n",
       "    </tr>\n",
       "    <tr>\n",
       "      <th>max</th>\n",
       "      <td>10500.000000</td>\n",
       "    </tr>\n",
       "  </tbody>\n",
       "</table>\n",
       "</div>"
      ],
      "text/plain": [
       "              price\n",
       "count   4192.000000\n",
       "mean    8559.875954\n",
       "std     1968.128971\n",
       "min     6000.000000\n",
       "25%     6000.000000\n",
       "50%     7500.000000\n",
       "75%    10500.000000\n",
       "max    10500.000000"
      ]
     },
     "execution_count": 103,
     "metadata": {},
     "output_type": "execute_result"
    }
   ],
   "source": [
    "customer_cam_cl.describe()\n",
    "\n",
    "# 가격대의 종류를 늘리고 그에 해당하는 적절한 프로모션이 필요. ex) 3_새벽반 5천원 (6시~8시)) / 4_주말반 4천원 (대신 주말만 가능)"
   ]
  },
  {
   "cell_type": "code",
   "execution_count": 104,
   "metadata": {},
   "outputs": [
    {
     "data": {
      "text/plain": [
       "class_name  price\n",
       "0_종일        10500    2045\n",
       "2_야간        6000     1128\n",
       "1_주간        7500     1019\n",
       "dtype: int64"
      ]
     },
     "execution_count": 104,
     "metadata": {},
     "output_type": "execute_result"
    }
   ],
   "source": [
    "customer_cam_cl[['class_name','price']].value_counts()"
   ]
  },
  {
   "cell_type": "code",
   "execution_count": 105,
   "metadata": {},
   "outputs": [],
   "source": [
    "use_log['usedate'] = pd.to_datetime(use_log['usedate'])\n",
    "use_log['use_month']=use_log['usedate'].dt.strftime('%Y%m')"
   ]
  },
  {
   "cell_type": "code",
   "execution_count": 106,
   "metadata": {},
   "outputs": [
    {
     "data": {
      "text/html": [
       "<div>\n",
       "<style scoped>\n",
       "    .dataframe tbody tr th:only-of-type {\n",
       "        vertical-align: middle;\n",
       "    }\n",
       "\n",
       "    .dataframe tbody tr th {\n",
       "        vertical-align: top;\n",
       "    }\n",
       "\n",
       "    .dataframe thead th {\n",
       "        text-align: right;\n",
       "    }\n",
       "</style>\n",
       "<table border=\"1\" class=\"dataframe\">\n",
       "  <thead>\n",
       "    <tr style=\"text-align: right;\">\n",
       "      <th></th>\n",
       "      <th>log_id</th>\n",
       "      <th>customer_id</th>\n",
       "      <th>usedate</th>\n",
       "      <th>use_month</th>\n",
       "    </tr>\n",
       "  </thead>\n",
       "  <tbody>\n",
       "    <tr>\n",
       "      <th>0</th>\n",
       "      <td>L00000049012330</td>\n",
       "      <td>AS009373</td>\n",
       "      <td>2018-04-01</td>\n",
       "      <td>201804</td>\n",
       "    </tr>\n",
       "    <tr>\n",
       "      <th>1</th>\n",
       "      <td>L00000049012331</td>\n",
       "      <td>AS015315</td>\n",
       "      <td>2018-04-01</td>\n",
       "      <td>201804</td>\n",
       "    </tr>\n",
       "    <tr>\n",
       "      <th>2</th>\n",
       "      <td>L00000049012332</td>\n",
       "      <td>AS040841</td>\n",
       "      <td>2018-04-01</td>\n",
       "      <td>201804</td>\n",
       "    </tr>\n",
       "    <tr>\n",
       "      <th>3</th>\n",
       "      <td>L00000049012333</td>\n",
       "      <td>AS046594</td>\n",
       "      <td>2018-04-01</td>\n",
       "      <td>201804</td>\n",
       "    </tr>\n",
       "    <tr>\n",
       "      <th>4</th>\n",
       "      <td>L00000049012334</td>\n",
       "      <td>AS073285</td>\n",
       "      <td>2018-04-01</td>\n",
       "      <td>201804</td>\n",
       "    </tr>\n",
       "  </tbody>\n",
       "</table>\n",
       "</div>"
      ],
      "text/plain": [
       "            log_id customer_id    usedate use_month\n",
       "0  L00000049012330    AS009373 2018-04-01    201804\n",
       "1  L00000049012331    AS015315 2018-04-01    201804\n",
       "2  L00000049012332    AS040841 2018-04-01    201804\n",
       "3  L00000049012333    AS046594 2018-04-01    201804\n",
       "4  L00000049012334    AS073285 2018-04-01    201804"
      ]
     },
     "execution_count": 106,
     "metadata": {},
     "output_type": "execute_result"
    }
   ],
   "source": [
    "use_log.head()"
   ]
  },
  {
   "cell_type": "markdown",
   "metadata": {},
   "source": [
    "### 무료회원"
   ]
  },
  {
   "cell_type": "code",
   "execution_count": 107,
   "metadata": {},
   "outputs": [
    {
     "data": {
      "text/html": [
       "<div>\n",
       "<style scoped>\n",
       "    .dataframe tbody tr th:only-of-type {\n",
       "        vertical-align: middle;\n",
       "    }\n",
       "\n",
       "    .dataframe tbody tr th {\n",
       "        vertical-align: top;\n",
       "    }\n",
       "\n",
       "    .dataframe thead th {\n",
       "        text-align: right;\n",
       "    }\n",
       "</style>\n",
       "<table border=\"1\" class=\"dataframe\">\n",
       "  <thead>\n",
       "    <tr style=\"text-align: right;\">\n",
       "      <th></th>\n",
       "      <th>customer_id</th>\n",
       "      <th>name</th>\n",
       "      <th>class</th>\n",
       "      <th>gender</th>\n",
       "      <th>start_date</th>\n",
       "      <th>end_date</th>\n",
       "      <th>campaign_id</th>\n",
       "      <th>is_deleted</th>\n",
       "      <th>campaign_name</th>\n",
       "      <th>class_name</th>\n",
       "      <th>price</th>\n",
       "    </tr>\n",
       "  </thead>\n",
       "  <tbody>\n",
       "    <tr>\n",
       "      <th>2336</th>\n",
       "      <td>IK524314</td>\n",
       "      <td>XXXX</td>\n",
       "      <td>C01</td>\n",
       "      <td>M</td>\n",
       "      <td>2017-12-01 00:00:00</td>\n",
       "      <td>2018-05-31 00:00:00</td>\n",
       "      <td>CA3</td>\n",
       "      <td>탈퇴회원</td>\n",
       "      <td>1_입회비무료</td>\n",
       "      <td>0_종일</td>\n",
       "      <td>10500</td>\n",
       "    </tr>\n",
       "    <tr>\n",
       "      <th>2337</th>\n",
       "      <td>TS218627</td>\n",
       "      <td>XXXXX</td>\n",
       "      <td>C02</td>\n",
       "      <td>F</td>\n",
       "      <td>2017-12-01 00:00:00</td>\n",
       "      <td>2018-07-31 00:00:00</td>\n",
       "      <td>CA3</td>\n",
       "      <td>탈퇴회원</td>\n",
       "      <td>1_입회비무료</td>\n",
       "      <td>1_주간</td>\n",
       "      <td>7500</td>\n",
       "    </tr>\n",
       "    <tr>\n",
       "      <th>2338</th>\n",
       "      <td>GD401728</td>\n",
       "      <td>XXXXX</td>\n",
       "      <td>C01</td>\n",
       "      <td>M</td>\n",
       "      <td>2017-12-01 00:00:00</td>\n",
       "      <td>NaN</td>\n",
       "      <td>CA3</td>\n",
       "      <td>유지회원</td>\n",
       "      <td>1_입회비무료</td>\n",
       "      <td>0_종일</td>\n",
       "      <td>10500</td>\n",
       "    </tr>\n",
       "    <tr>\n",
       "      <th>2339</th>\n",
       "      <td>PL147335</td>\n",
       "      <td>XXXXXX</td>\n",
       "      <td>C03</td>\n",
       "      <td>M</td>\n",
       "      <td>2017-12-01 00:00:00</td>\n",
       "      <td>NaN</td>\n",
       "      <td>CA3</td>\n",
       "      <td>유지회원</td>\n",
       "      <td>1_입회비무료</td>\n",
       "      <td>2_야간</td>\n",
       "      <td>6000</td>\n",
       "    </tr>\n",
       "    <tr>\n",
       "      <th>2340</th>\n",
       "      <td>IK142972</td>\n",
       "      <td>XXXXX</td>\n",
       "      <td>C01</td>\n",
       "      <td>F</td>\n",
       "      <td>2017-12-01 00:00:00</td>\n",
       "      <td>NaN</td>\n",
       "      <td>CA3</td>\n",
       "      <td>유지회원</td>\n",
       "      <td>1_입회비무료</td>\n",
       "      <td>0_종일</td>\n",
       "      <td>10500</td>\n",
       "    </tr>\n",
       "    <tr>\n",
       "      <th>...</th>\n",
       "      <td>...</td>\n",
       "      <td>...</td>\n",
       "      <td>...</td>\n",
       "      <td>...</td>\n",
       "      <td>...</td>\n",
       "      <td>...</td>\n",
       "      <td>...</td>\n",
       "      <td>...</td>\n",
       "      <td>...</td>\n",
       "      <td>...</td>\n",
       "      <td>...</td>\n",
       "    </tr>\n",
       "    <tr>\n",
       "      <th>3958</th>\n",
       "      <td>PL405819</td>\n",
       "      <td>XXXX</td>\n",
       "      <td>C01</td>\n",
       "      <td>M</td>\n",
       "      <td>2018-12-15 00:00:00</td>\n",
       "      <td>NaN</td>\n",
       "      <td>CA3</td>\n",
       "      <td>유지회원</td>\n",
       "      <td>1_입회비무료</td>\n",
       "      <td>0_종일</td>\n",
       "      <td>10500</td>\n",
       "    </tr>\n",
       "    <tr>\n",
       "      <th>3959</th>\n",
       "      <td>HI958991</td>\n",
       "      <td>XXXXX</td>\n",
       "      <td>C01</td>\n",
       "      <td>F</td>\n",
       "      <td>2018-12-15 00:00:00</td>\n",
       "      <td>NaN</td>\n",
       "      <td>CA3</td>\n",
       "      <td>유지회원</td>\n",
       "      <td>1_입회비무료</td>\n",
       "      <td>0_종일</td>\n",
       "      <td>10500</td>\n",
       "    </tr>\n",
       "    <tr>\n",
       "      <th>3960</th>\n",
       "      <td>IK039344</td>\n",
       "      <td>XXX</td>\n",
       "      <td>C03</td>\n",
       "      <td>M</td>\n",
       "      <td>2018-12-15 00:00:00</td>\n",
       "      <td>NaN</td>\n",
       "      <td>CA3</td>\n",
       "      <td>유지회원</td>\n",
       "      <td>1_입회비무료</td>\n",
       "      <td>2_야간</td>\n",
       "      <td>6000</td>\n",
       "    </tr>\n",
       "    <tr>\n",
       "      <th>3961</th>\n",
       "      <td>TS950243</td>\n",
       "      <td>XXXX</td>\n",
       "      <td>C01</td>\n",
       "      <td>M</td>\n",
       "      <td>2018-12-15 00:00:00</td>\n",
       "      <td>NaN</td>\n",
       "      <td>CA3</td>\n",
       "      <td>유지회원</td>\n",
       "      <td>1_입회비무료</td>\n",
       "      <td>0_종일</td>\n",
       "      <td>10500</td>\n",
       "    </tr>\n",
       "    <tr>\n",
       "      <th>3962</th>\n",
       "      <td>AS912483</td>\n",
       "      <td>XX</td>\n",
       "      <td>C03</td>\n",
       "      <td>M</td>\n",
       "      <td>2018-12-15 00:00:00</td>\n",
       "      <td>NaN</td>\n",
       "      <td>CA3</td>\n",
       "      <td>유지회원</td>\n",
       "      <td>1_입회비무료</td>\n",
       "      <td>2_야간</td>\n",
       "      <td>6000</td>\n",
       "    </tr>\n",
       "  </tbody>\n",
       "</table>\n",
       "<p>492 rows × 11 columns</p>\n",
       "</div>"
      ],
      "text/plain": [
       "     customer_id    name class gender           start_date  \\\n",
       "2336    IK524314    XXXX   C01      M  2017-12-01 00:00:00   \n",
       "2337    TS218627   XXXXX   C02      F  2017-12-01 00:00:00   \n",
       "2338    GD401728   XXXXX   C01      M  2017-12-01 00:00:00   \n",
       "2339    PL147335  XXXXXX   C03      M  2017-12-01 00:00:00   \n",
       "2340    IK142972   XXXXX   C01      F  2017-12-01 00:00:00   \n",
       "...          ...     ...   ...    ...                  ...   \n",
       "3958    PL405819    XXXX   C01      M  2018-12-15 00:00:00   \n",
       "3959    HI958991   XXXXX   C01      F  2018-12-15 00:00:00   \n",
       "3960    IK039344     XXX   C03      M  2018-12-15 00:00:00   \n",
       "3961    TS950243    XXXX   C01      M  2018-12-15 00:00:00   \n",
       "3962    AS912483      XX   C03      M  2018-12-15 00:00:00   \n",
       "\n",
       "                 end_date campaign_id is_deleted campaign_name class_name  \\\n",
       "2336  2018-05-31 00:00:00         CA3       탈퇴회원       1_입회비무료       0_종일   \n",
       "2337  2018-07-31 00:00:00         CA3       탈퇴회원       1_입회비무료       1_주간   \n",
       "2338                  NaN         CA3       유지회원       1_입회비무료       0_종일   \n",
       "2339                  NaN         CA3       유지회원       1_입회비무료       2_야간   \n",
       "2340                  NaN         CA3       유지회원       1_입회비무료       0_종일   \n",
       "...                   ...         ...        ...           ...        ...   \n",
       "3958                  NaN         CA3       유지회원       1_입회비무료       0_종일   \n",
       "3959                  NaN         CA3       유지회원       1_입회비무료       0_종일   \n",
       "3960                  NaN         CA3       유지회원       1_입회비무료       2_야간   \n",
       "3961                  NaN         CA3       유지회원       1_입회비무료       0_종일   \n",
       "3962                  NaN         CA3       유지회원       1_입회비무료       2_야간   \n",
       "\n",
       "      price  \n",
       "2336  10500  \n",
       "2337   7500  \n",
       "2338  10500  \n",
       "2339   6000  \n",
       "2340  10500  \n",
       "...     ...  \n",
       "3958  10500  \n",
       "3959  10500  \n",
       "3960   6000  \n",
       "3961  10500  \n",
       "3962   6000  \n",
       "\n",
       "[492 rows x 11 columns]"
      ]
     },
     "execution_count": 107,
     "metadata": {},
     "output_type": "execute_result"
    }
   ],
   "source": [
    "ca3=customer_cam_cl[customer_cam_cl['campaign_id']=='CA3']\n",
    "ca3"
   ]
  },
  {
   "cell_type": "code",
   "execution_count": 108,
   "metadata": {},
   "outputs": [
    {
     "data": {
      "text/plain": [
       "gender  class\n",
       "F       C01      110\n",
       "        C02      104\n",
       "        C03       37\n",
       "M       C01      130\n",
       "        C02       24\n",
       "        C03       87\n",
       "Name: class_name, dtype: int64"
      ]
     },
     "execution_count": 108,
     "metadata": {},
     "output_type": "execute_result"
    }
   ],
   "source": [
    "# 입회비 무료 여성회원들은  종일(C01)&주간(C02)반에 비해 야간반(C03) 등록이 현적히 적었으며\n",
    "#  입회비 무료 남성회원들은 종일반과 야간반에 비해 주간반 등록이 현저히 적었다.\n",
    "# 무료 여성 회원들은 점심사간이나,오후시간에 운동을 선호하며\n",
    "# 무료 남성 회원들은 주간에 비해 퇴근후에 운동을 하는 회원들이 많다는 것을 알 수 있다.\n",
    "# 이것을 통해서 무료 여성회원들에게는 주간에 그리고 무료 남성회원들에게는 야간에 이벤트나 프로모션을 적용한다면 \n",
    "# 더 많은 회원을 유치할 수 있을 것이라고 생각된다.\n",
    "# CA1-3050명,CA2-650명, CA3(무료회원)-492명  무료회원 수는 일반+반액할인 회원수 합의 약 10%정도이다.\n",
    "ca3.groupby(['gender','class'])['class_name'].count()"
   ]
  },
  {
   "cell_type": "code",
   "execution_count": 109,
   "metadata": {},
   "outputs": [
    {
     "data": {
      "text/plain": [
       "customer_id      492\n",
       "name             492\n",
       "class            492\n",
       "gender           492\n",
       "start_date       492\n",
       "end_date         273\n",
       "campaign_id      492\n",
       "is_deleted       492\n",
       "campaign_name    492\n",
       "class_name       492\n",
       "price            492\n",
       "dtype: int64"
      ]
     },
     "execution_count": 109,
     "metadata": {},
     "output_type": "execute_result"
    }
   ],
   "source": [
    "customer_cam_cl[customer_cam_cl['campaign_id']=='CA3'].count()\n"
   ]
  },
  {
   "cell_type": "code",
   "execution_count": 110,
   "metadata": {},
   "outputs": [
    {
     "data": {
      "text/plain": [
       "customer_id      3050\n",
       "name             3050\n",
       "class            3050\n",
       "gender           3050\n",
       "start_date       3050\n",
       "end_date          709\n",
       "campaign_id      3050\n",
       "is_deleted       3050\n",
       "campaign_name    3050\n",
       "class_name       3050\n",
       "price            3050\n",
       "dtype: int64"
      ]
     },
     "execution_count": 110,
     "metadata": {},
     "output_type": "execute_result"
    }
   ],
   "source": [
    "ca1=customer_cam_cl[customer_cam_cl['campaign_id']=='CA1']\n",
    "ca1.count()"
   ]
  },
  {
   "cell_type": "code",
   "execution_count": 111,
   "metadata": {},
   "outputs": [
    {
     "data": {
      "text/plain": [
       "customer_id      650\n",
       "name             650\n",
       "class            650\n",
       "gender           650\n",
       "start_date       650\n",
       "end_date         368\n",
       "campaign_id      650\n",
       "is_deleted       650\n",
       "campaign_name    650\n",
       "class_name       650\n",
       "price            650\n",
       "dtype: int64"
      ]
     },
     "execution_count": 111,
     "metadata": {},
     "output_type": "execute_result"
    }
   ],
   "source": [
    "ca2=customer_cam_cl[customer_cam_cl['campaign_id']=='CA2']\n",
    "ca2.count()"
   ]
  },
  {
   "cell_type": "code",
   "execution_count": 139,
   "metadata": {},
   "outputs": [
    {
     "data": {
      "text/html": [
       "<div>\n",
       "<style scoped>\n",
       "    .dataframe tbody tr th:only-of-type {\n",
       "        vertical-align: middle;\n",
       "    }\n",
       "\n",
       "    .dataframe tbody tr th {\n",
       "        vertical-align: top;\n",
       "    }\n",
       "\n",
       "    .dataframe thead th {\n",
       "        text-align: right;\n",
       "    }\n",
       "</style>\n",
       "<table border=\"1\" class=\"dataframe\">\n",
       "  <thead>\n",
       "    <tr style=\"text-align: right;\">\n",
       "      <th></th>\n",
       "      <th>log_id</th>\n",
       "      <th>customer_id</th>\n",
       "      <th>usedate</th>\n",
       "      <th>use_month</th>\n",
       "    </tr>\n",
       "  </thead>\n",
       "  <tbody>\n",
       "    <tr>\n",
       "      <th>0</th>\n",
       "      <td>L00000049012330</td>\n",
       "      <td>AS009373</td>\n",
       "      <td>2018-04-01</td>\n",
       "      <td>201804</td>\n",
       "    </tr>\n",
       "    <tr>\n",
       "      <th>1</th>\n",
       "      <td>L00000049012331</td>\n",
       "      <td>AS015315</td>\n",
       "      <td>2018-04-01</td>\n",
       "      <td>201804</td>\n",
       "    </tr>\n",
       "    <tr>\n",
       "      <th>2</th>\n",
       "      <td>L00000049012332</td>\n",
       "      <td>AS040841</td>\n",
       "      <td>2018-04-01</td>\n",
       "      <td>201804</td>\n",
       "    </tr>\n",
       "    <tr>\n",
       "      <th>3</th>\n",
       "      <td>L00000049012333</td>\n",
       "      <td>AS046594</td>\n",
       "      <td>2018-04-01</td>\n",
       "      <td>201804</td>\n",
       "    </tr>\n",
       "    <tr>\n",
       "      <th>4</th>\n",
       "      <td>L00000049012334</td>\n",
       "      <td>AS073285</td>\n",
       "      <td>2018-04-01</td>\n",
       "      <td>201804</td>\n",
       "    </tr>\n",
       "  </tbody>\n",
       "</table>\n",
       "</div>"
      ],
      "text/plain": [
       "            log_id customer_id    usedate use_month\n",
       "0  L00000049012330    AS009373 2018-04-01    201804\n",
       "1  L00000049012331    AS015315 2018-04-01    201804\n",
       "2  L00000049012332    AS040841 2018-04-01    201804\n",
       "3  L00000049012333    AS046594 2018-04-01    201804\n",
       "4  L00000049012334    AS073285 2018-04-01    201804"
      ]
     },
     "execution_count": 139,
     "metadata": {},
     "output_type": "execute_result"
    }
   ],
   "source": [
    "use_log.head()"
   ]
  },
  {
   "cell_type": "code",
   "execution_count": 144,
   "metadata": {},
   "outputs": [
    {
     "data": {
      "text/html": [
       "<div>\n",
       "<style scoped>\n",
       "    .dataframe tbody tr th:only-of-type {\n",
       "        vertical-align: middle;\n",
       "    }\n",
       "\n",
       "    .dataframe tbody tr th {\n",
       "        vertical-align: top;\n",
       "    }\n",
       "\n",
       "    .dataframe thead th {\n",
       "        text-align: right;\n",
       "    }\n",
       "</style>\n",
       "<table border=\"1\" class=\"dataframe\">\n",
       "  <thead>\n",
       "    <tr style=\"text-align: right;\">\n",
       "      <th></th>\n",
       "      <th>log_id</th>\n",
       "      <th>customer_id</th>\n",
       "      <th>usedate</th>\n",
       "      <th>use_month</th>\n",
       "    </tr>\n",
       "  </thead>\n",
       "  <tbody>\n",
       "    <tr>\n",
       "      <th>0</th>\n",
       "      <td>L00000049012330</td>\n",
       "      <td>AS009373</td>\n",
       "      <td>2018-04-01</td>\n",
       "      <td>201804</td>\n",
       "    </tr>\n",
       "    <tr>\n",
       "      <th>1</th>\n",
       "      <td>L00000049012331</td>\n",
       "      <td>AS015315</td>\n",
       "      <td>2018-04-01</td>\n",
       "      <td>201804</td>\n",
       "    </tr>\n",
       "    <tr>\n",
       "      <th>2</th>\n",
       "      <td>L00000049012332</td>\n",
       "      <td>AS040841</td>\n",
       "      <td>2018-04-01</td>\n",
       "      <td>201804</td>\n",
       "    </tr>\n",
       "    <tr>\n",
       "      <th>3</th>\n",
       "      <td>L00000049012333</td>\n",
       "      <td>AS046594</td>\n",
       "      <td>2018-04-01</td>\n",
       "      <td>201804</td>\n",
       "    </tr>\n",
       "    <tr>\n",
       "      <th>4</th>\n",
       "      <td>L00000049012334</td>\n",
       "      <td>AS073285</td>\n",
       "      <td>2018-04-01</td>\n",
       "      <td>201804</td>\n",
       "    </tr>\n",
       "  </tbody>\n",
       "</table>\n",
       "</div>"
      ],
      "text/plain": [
       "            log_id customer_id    usedate use_month\n",
       "0  L00000049012330    AS009373 2018-04-01    201804\n",
       "1  L00000049012331    AS015315 2018-04-01    201804\n",
       "2  L00000049012332    AS040841 2018-04-01    201804\n",
       "3  L00000049012333    AS046594 2018-04-01    201804\n",
       "4  L00000049012334    AS073285 2018-04-01    201804"
      ]
     },
     "execution_count": 144,
     "metadata": {},
     "output_type": "execute_result"
    }
   ],
   "source": [
    "# use_log  usedate 년월 변환\n",
    "use_log['usedate']=pd.to_datetime(use_log['usedate'])\n",
    "use_log['use_month'] = use_log['usedate'].dt.strftime('%Y%m')\n",
    "use_log.head()"
   ]
  },
  {
   "cell_type": "markdown",
   "metadata": {},
   "source": [
    "# Merge\n",
    "\n",
    "## customer_cam_cl & use_log"
   ]
  },
  {
   "cell_type": "code",
   "execution_count": 113,
   "metadata": {},
   "outputs": [
    {
     "data": {
      "text/html": [
       "<div>\n",
       "<style scoped>\n",
       "    .dataframe tbody tr th:only-of-type {\n",
       "        vertical-align: middle;\n",
       "    }\n",
       "\n",
       "    .dataframe tbody tr th {\n",
       "        vertical-align: top;\n",
       "    }\n",
       "\n",
       "    .dataframe thead th {\n",
       "        text-align: right;\n",
       "    }\n",
       "</style>\n",
       "<table border=\"1\" class=\"dataframe\">\n",
       "  <thead>\n",
       "    <tr style=\"text-align: right;\">\n",
       "      <th></th>\n",
       "      <th>customer_id</th>\n",
       "      <th>name</th>\n",
       "      <th>class</th>\n",
       "      <th>gender</th>\n",
       "      <th>start_date</th>\n",
       "      <th>end_date</th>\n",
       "      <th>campaign_id</th>\n",
       "      <th>is_deleted</th>\n",
       "      <th>campaign_name</th>\n",
       "      <th>class_name</th>\n",
       "      <th>price</th>\n",
       "      <th>log_id</th>\n",
       "      <th>usedate</th>\n",
       "      <th>use_month</th>\n",
       "    </tr>\n",
       "  </thead>\n",
       "  <tbody>\n",
       "    <tr>\n",
       "      <th>0</th>\n",
       "      <td>OA832399</td>\n",
       "      <td>XXXX</td>\n",
       "      <td>C01</td>\n",
       "      <td>F</td>\n",
       "      <td>2015-05-01 00:00:00</td>\n",
       "      <td>NaN</td>\n",
       "      <td>CA1</td>\n",
       "      <td>유지회원</td>\n",
       "      <td>2_일반</td>\n",
       "      <td>0_종일</td>\n",
       "      <td>10500</td>\n",
       "      <td>L00000049014216</td>\n",
       "      <td>2018-04-04</td>\n",
       "      <td>201804</td>\n",
       "    </tr>\n",
       "    <tr>\n",
       "      <th>1</th>\n",
       "      <td>OA832399</td>\n",
       "      <td>XXXX</td>\n",
       "      <td>C01</td>\n",
       "      <td>F</td>\n",
       "      <td>2015-05-01 00:00:00</td>\n",
       "      <td>NaN</td>\n",
       "      <td>CA1</td>\n",
       "      <td>유지회원</td>\n",
       "      <td>2_일반</td>\n",
       "      <td>0_종일</td>\n",
       "      <td>10500</td>\n",
       "      <td>L00000049018989</td>\n",
       "      <td>2018-04-13</td>\n",
       "      <td>201804</td>\n",
       "    </tr>\n",
       "    <tr>\n",
       "      <th>2</th>\n",
       "      <td>OA832399</td>\n",
       "      <td>XXXX</td>\n",
       "      <td>C01</td>\n",
       "      <td>F</td>\n",
       "      <td>2015-05-01 00:00:00</td>\n",
       "      <td>NaN</td>\n",
       "      <td>CA1</td>\n",
       "      <td>유지회원</td>\n",
       "      <td>2_일반</td>\n",
       "      <td>0_종일</td>\n",
       "      <td>10500</td>\n",
       "      <td>L00000049030118</td>\n",
       "      <td>2018-05-03</td>\n",
       "      <td>201805</td>\n",
       "    </tr>\n",
       "    <tr>\n",
       "      <th>3</th>\n",
       "      <td>OA832399</td>\n",
       "      <td>XXXX</td>\n",
       "      <td>C01</td>\n",
       "      <td>F</td>\n",
       "      <td>2015-05-01 00:00:00</td>\n",
       "      <td>NaN</td>\n",
       "      <td>CA1</td>\n",
       "      <td>유지회원</td>\n",
       "      <td>2_일반</td>\n",
       "      <td>0_종일</td>\n",
       "      <td>10500</td>\n",
       "      <td>L00000049031667</td>\n",
       "      <td>2018-05-06</td>\n",
       "      <td>201805</td>\n",
       "    </tr>\n",
       "    <tr>\n",
       "      <th>4</th>\n",
       "      <td>OA832399</td>\n",
       "      <td>XXXX</td>\n",
       "      <td>C01</td>\n",
       "      <td>F</td>\n",
       "      <td>2015-05-01 00:00:00</td>\n",
       "      <td>NaN</td>\n",
       "      <td>CA1</td>\n",
       "      <td>유지회원</td>\n",
       "      <td>2_일반</td>\n",
       "      <td>0_종일</td>\n",
       "      <td>10500</td>\n",
       "      <td>L00000049033751</td>\n",
       "      <td>2018-05-10</td>\n",
       "      <td>201805</td>\n",
       "    </tr>\n",
       "    <tr>\n",
       "      <th>...</th>\n",
       "      <td>...</td>\n",
       "      <td>...</td>\n",
       "      <td>...</td>\n",
       "      <td>...</td>\n",
       "      <td>...</td>\n",
       "      <td>...</td>\n",
       "      <td>...</td>\n",
       "      <td>...</td>\n",
       "      <td>...</td>\n",
       "      <td>...</td>\n",
       "      <td>...</td>\n",
       "      <td>...</td>\n",
       "      <td>...</td>\n",
       "      <td>...</td>\n",
       "    </tr>\n",
       "    <tr>\n",
       "      <th>197423</th>\n",
       "      <td>IK692635</td>\n",
       "      <td>XXXXX</td>\n",
       "      <td>C02</td>\n",
       "      <td>F</td>\n",
       "      <td>2019-03-15 00:00:00</td>\n",
       "      <td>NaN</td>\n",
       "      <td>CA1</td>\n",
       "      <td>유지회원</td>\n",
       "      <td>2_일반</td>\n",
       "      <td>1_주간</td>\n",
       "      <td>7500</td>\n",
       "      <td>L00000049204803</td>\n",
       "      <td>2019-03-22</td>\n",
       "      <td>201903</td>\n",
       "    </tr>\n",
       "    <tr>\n",
       "      <th>197424</th>\n",
       "      <td>IK692635</td>\n",
       "      <td>XXXXX</td>\n",
       "      <td>C02</td>\n",
       "      <td>F</td>\n",
       "      <td>2019-03-15 00:00:00</td>\n",
       "      <td>NaN</td>\n",
       "      <td>CA1</td>\n",
       "      <td>유지회원</td>\n",
       "      <td>2_일반</td>\n",
       "      <td>1_주간</td>\n",
       "      <td>7500</td>\n",
       "      <td>L00000049205312</td>\n",
       "      <td>2019-03-23</td>\n",
       "      <td>201903</td>\n",
       "    </tr>\n",
       "    <tr>\n",
       "      <th>197425</th>\n",
       "      <td>IK692635</td>\n",
       "      <td>XXXXX</td>\n",
       "      <td>C02</td>\n",
       "      <td>F</td>\n",
       "      <td>2019-03-15 00:00:00</td>\n",
       "      <td>NaN</td>\n",
       "      <td>CA1</td>\n",
       "      <td>유지회원</td>\n",
       "      <td>2_일반</td>\n",
       "      <td>1_주간</td>\n",
       "      <td>7500</td>\n",
       "      <td>L00000049206326</td>\n",
       "      <td>2019-03-25</td>\n",
       "      <td>201903</td>\n",
       "    </tr>\n",
       "    <tr>\n",
       "      <th>197426</th>\n",
       "      <td>IK692635</td>\n",
       "      <td>XXXXX</td>\n",
       "      <td>C02</td>\n",
       "      <td>F</td>\n",
       "      <td>2019-03-15 00:00:00</td>\n",
       "      <td>NaN</td>\n",
       "      <td>CA1</td>\n",
       "      <td>유지회원</td>\n",
       "      <td>2_일반</td>\n",
       "      <td>1_주간</td>\n",
       "      <td>7500</td>\n",
       "      <td>L00000049207430</td>\n",
       "      <td>2019-03-27</td>\n",
       "      <td>201903</td>\n",
       "    </tr>\n",
       "    <tr>\n",
       "      <th>197427</th>\n",
       "      <td>IK692635</td>\n",
       "      <td>XXXXX</td>\n",
       "      <td>C02</td>\n",
       "      <td>F</td>\n",
       "      <td>2019-03-15 00:00:00</td>\n",
       "      <td>NaN</td>\n",
       "      <td>CA1</td>\n",
       "      <td>유지회원</td>\n",
       "      <td>2_일반</td>\n",
       "      <td>1_주간</td>\n",
       "      <td>7500</td>\n",
       "      <td>L00000049207993</td>\n",
       "      <td>2019-03-28</td>\n",
       "      <td>201903</td>\n",
       "    </tr>\n",
       "  </tbody>\n",
       "</table>\n",
       "<p>197428 rows × 14 columns</p>\n",
       "</div>"
      ],
      "text/plain": [
       "       customer_id   name class gender           start_date end_date  \\\n",
       "0         OA832399   XXXX   C01      F  2015-05-01 00:00:00      NaN   \n",
       "1         OA832399   XXXX   C01      F  2015-05-01 00:00:00      NaN   \n",
       "2         OA832399   XXXX   C01      F  2015-05-01 00:00:00      NaN   \n",
       "3         OA832399   XXXX   C01      F  2015-05-01 00:00:00      NaN   \n",
       "4         OA832399   XXXX   C01      F  2015-05-01 00:00:00      NaN   \n",
       "...            ...    ...   ...    ...                  ...      ...   \n",
       "197423    IK692635  XXXXX   C02      F  2019-03-15 00:00:00      NaN   \n",
       "197424    IK692635  XXXXX   C02      F  2019-03-15 00:00:00      NaN   \n",
       "197425    IK692635  XXXXX   C02      F  2019-03-15 00:00:00      NaN   \n",
       "197426    IK692635  XXXXX   C02      F  2019-03-15 00:00:00      NaN   \n",
       "197427    IK692635  XXXXX   C02      F  2019-03-15 00:00:00      NaN   \n",
       "\n",
       "       campaign_id is_deleted campaign_name class_name  price  \\\n",
       "0              CA1       유지회원          2_일반       0_종일  10500   \n",
       "1              CA1       유지회원          2_일반       0_종일  10500   \n",
       "2              CA1       유지회원          2_일반       0_종일  10500   \n",
       "3              CA1       유지회원          2_일반       0_종일  10500   \n",
       "4              CA1       유지회원          2_일반       0_종일  10500   \n",
       "...            ...        ...           ...        ...    ...   \n",
       "197423         CA1       유지회원          2_일반       1_주간   7500   \n",
       "197424         CA1       유지회원          2_일반       1_주간   7500   \n",
       "197425         CA1       유지회원          2_일반       1_주간   7500   \n",
       "197426         CA1       유지회원          2_일반       1_주간   7500   \n",
       "197427         CA1       유지회원          2_일반       1_주간   7500   \n",
       "\n",
       "                 log_id    usedate use_month  \n",
       "0       L00000049014216 2018-04-04    201804  \n",
       "1       L00000049018989 2018-04-13    201804  \n",
       "2       L00000049030118 2018-05-03    201805  \n",
       "3       L00000049031667 2018-05-06    201805  \n",
       "4       L00000049033751 2018-05-10    201805  \n",
       "...                 ...        ...       ...  \n",
       "197423  L00000049204803 2019-03-22    201903  \n",
       "197424  L00000049205312 2019-03-23    201903  \n",
       "197425  L00000049206326 2019-03-25    201903  \n",
       "197426  L00000049207430 2019-03-27    201903  \n",
       "197427  L00000049207993 2019-03-28    201903  \n",
       "\n",
       "[197428 rows x 14 columns]"
      ]
     },
     "execution_count": 113,
     "metadata": {},
     "output_type": "execute_result"
    }
   ],
   "source": [
    "c_cam_log = customer_cam_cl.merge(use_log, on='customer_id', how='left')\n",
    "c_cam_log"
   ]
  },
  {
   "cell_type": "code",
   "execution_count": 158,
   "metadata": {},
   "outputs": [],
   "source": [
    "c_cam_log['start_date']=pd.to_datetime(c_cam_log['start_date'])\n",
    "c_cam_log['end_date']=pd.to_datetime(c_cam_log['end_date'])"
   ]
  },
  {
   "cell_type": "code",
   "execution_count": 154,
   "metadata": {},
   "outputs": [],
   "source": [
    "c_cam_log['end_date']=c_cam_log['end_date'].fillna(c_cam_log['end_date'].mean())"
   ]
  },
  {
   "cell_type": "code",
   "execution_count": null,
   "metadata": {},
   "outputs": [],
   "source": [
    "\n",
    "c_cam_log['useperiod']= c_cam_log['end_date'] - c_cam_log['start_date']"
   ]
  },
  {
   "cell_type": "code",
   "execution_count": 163,
   "metadata": {},
   "outputs": [
    {
     "data": {
      "text/html": [
       "<div>\n",
       "<style scoped>\n",
       "    .dataframe tbody tr th:only-of-type {\n",
       "        vertical-align: middle;\n",
       "    }\n",
       "\n",
       "    .dataframe tbody tr th {\n",
       "        vertical-align: top;\n",
       "    }\n",
       "\n",
       "    .dataframe thead th {\n",
       "        text-align: right;\n",
       "    }\n",
       "</style>\n",
       "<table border=\"1\" class=\"dataframe\">\n",
       "  <thead>\n",
       "    <tr style=\"text-align: right;\">\n",
       "      <th></th>\n",
       "      <th>customer_id</th>\n",
       "      <th>name</th>\n",
       "      <th>class</th>\n",
       "      <th>gender</th>\n",
       "      <th>start_date</th>\n",
       "      <th>end_date</th>\n",
       "      <th>campaign_id</th>\n",
       "      <th>is_deleted</th>\n",
       "      <th>campaign_name</th>\n",
       "      <th>class_name</th>\n",
       "      <th>price</th>\n",
       "      <th>log_id</th>\n",
       "      <th>usedate</th>\n",
       "      <th>use_month</th>\n",
       "      <th>useperiod</th>\n",
       "    </tr>\n",
       "  </thead>\n",
       "  <tbody>\n",
       "    <tr>\n",
       "      <th>0</th>\n",
       "      <td>OA832399</td>\n",
       "      <td>XXXX</td>\n",
       "      <td>C01</td>\n",
       "      <td>F</td>\n",
       "      <td>2015-05-01</td>\n",
       "      <td>2018-12-18 09:28:18.011807488</td>\n",
       "      <td>CA1</td>\n",
       "      <td>유지회원</td>\n",
       "      <td>2_일반</td>\n",
       "      <td>0_종일</td>\n",
       "      <td>10500</td>\n",
       "      <td>L00000049014216</td>\n",
       "      <td>2018-04-04</td>\n",
       "      <td>201804</td>\n",
       "      <td>1327 days 09:28:18.011807488</td>\n",
       "    </tr>\n",
       "    <tr>\n",
       "      <th>1</th>\n",
       "      <td>OA832399</td>\n",
       "      <td>XXXX</td>\n",
       "      <td>C01</td>\n",
       "      <td>F</td>\n",
       "      <td>2015-05-01</td>\n",
       "      <td>2018-12-18 09:28:18.011807488</td>\n",
       "      <td>CA1</td>\n",
       "      <td>유지회원</td>\n",
       "      <td>2_일반</td>\n",
       "      <td>0_종일</td>\n",
       "      <td>10500</td>\n",
       "      <td>L00000049018989</td>\n",
       "      <td>2018-04-13</td>\n",
       "      <td>201804</td>\n",
       "      <td>1327 days 09:28:18.011807488</td>\n",
       "    </tr>\n",
       "    <tr>\n",
       "      <th>2</th>\n",
       "      <td>OA832399</td>\n",
       "      <td>XXXX</td>\n",
       "      <td>C01</td>\n",
       "      <td>F</td>\n",
       "      <td>2015-05-01</td>\n",
       "      <td>2018-12-18 09:28:18.011807488</td>\n",
       "      <td>CA1</td>\n",
       "      <td>유지회원</td>\n",
       "      <td>2_일반</td>\n",
       "      <td>0_종일</td>\n",
       "      <td>10500</td>\n",
       "      <td>L00000049030118</td>\n",
       "      <td>2018-05-03</td>\n",
       "      <td>201805</td>\n",
       "      <td>1327 days 09:28:18.011807488</td>\n",
       "    </tr>\n",
       "  </tbody>\n",
       "</table>\n",
       "</div>"
      ],
      "text/plain": [
       "  customer_id  name class gender start_date                      end_date  \\\n",
       "0    OA832399  XXXX   C01      F 2015-05-01 2018-12-18 09:28:18.011807488   \n",
       "1    OA832399  XXXX   C01      F 2015-05-01 2018-12-18 09:28:18.011807488   \n",
       "2    OA832399  XXXX   C01      F 2015-05-01 2018-12-18 09:28:18.011807488   \n",
       "\n",
       "  campaign_id is_deleted campaign_name class_name  price           log_id  \\\n",
       "0         CA1       유지회원          2_일반       0_종일  10500  L00000049014216   \n",
       "1         CA1       유지회원          2_일반       0_종일  10500  L00000049018989   \n",
       "2         CA1       유지회원          2_일반       0_종일  10500  L00000049030118   \n",
       "\n",
       "     usedate use_month                    useperiod  \n",
       "0 2018-04-04    201804 1327 days 09:28:18.011807488  \n",
       "1 2018-04-13    201804 1327 days 09:28:18.011807488  \n",
       "2 2018-05-03    201805 1327 days 09:28:18.011807488  "
      ]
     },
     "execution_count": 163,
     "metadata": {},
     "output_type": "execute_result"
    }
   ],
   "source": [
    "c_cam_log.head(3)"
   ]
  },
  {
   "cell_type": "markdown",
   "metadata": {},
   "source": [
    "## 위 데이터들의 분석한 내용들을 바탕으로 대표님의 스포츠센터 운영에 참조하신다면 많은 도움이 될 것이라고 생각됩니다.\n",
    "## 포츠센터에 눈부신 발전을 기원합니다."
   ]
  }
 ],
 "metadata": {
  "kernelspec": {
   "display_name": "Python 3.10.5 64-bit",
   "language": "python",
   "name": "python3"
  },
  "language_info": {
   "codemirror_mode": {
    "name": "ipython",
    "version": 3
   },
   "file_extension": ".py",
   "mimetype": "text/x-python",
   "name": "python",
   "nbconvert_exporter": "python",
   "pygments_lexer": "ipython3",
   "version": "3.10.5"
  },
  "orig_nbformat": 4,
  "vscode": {
   "interpreter": {
    "hash": "aee8b7b246df8f9039afb4144a1f6fd8d2ca17a180786b69acc140d282b71a49"
   }
  }
 },
 "nbformat": 4,
 "nbformat_minor": 2
}
